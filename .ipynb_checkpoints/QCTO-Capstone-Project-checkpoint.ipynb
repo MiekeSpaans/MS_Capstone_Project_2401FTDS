{
 "cells": [
  {
   "cell_type": "markdown",
   "metadata": {},
   "source": [
    "# QCTO - Workplace Module\n",
    "\n",
    "### Investigating and Predicting Landslide Risk in Iran\n",
    "#### Done By: Mieke Spaans\n",
    "\n",
    "© ExploreAI 2024\n",
    "\n",
    "---\n",
    " <a id=\"cont\"></a>\n",
    "## Table of Contents\n",
    "\n",
    "<a href=#BC> Background Context</a>\n",
    "\n",
    "<a href=#one>1. Importing Packages</a>\n",
    "\n",
    "<a href=#two>2. Data Collection and Description</a>\n",
    "\n",
    "<a href=#three>3. Loading Data </a>\n",
    "\n",
    "<a href=#four>4. Data Cleaning and Filtering</a>\n",
    "\n",
    "<a href=#five>5. Exploratory Data Analysis (EDA)</a>\n",
    "\n",
    "<a href=#six>6. Modeling </a>\n",
    "\n",
    "<a href=#seven>7. Evaluation and Validation</a>\n",
    "\n",
    "<a href=#eight>8. Final Model</a>\n",
    "\n",
    "<a href=#nine>9. Conclusion and Future Work</a>\n",
    "\n",
    "<a href=#ten>10. References</a>"
   ]
  },
  {
   "cell_type": "markdown",
   "metadata": {},
   "source": [
    "---\n",
    " <a id=\"BC\"></a>\n",
    "## **Background Context**\n",
    "<a href=#cont>Back to Table of Contents</a>\n",
    "\n",
    "* **Purpose:** Introduce the project, outline its goals, and explain its significance.\n",
    "* **Details:** Include information about the problem domain, the specific questions or challenges the project aims to address, and any relevant background information that sets the stage for the work.\n",
    "---"
   ]
  },
  {
   "cell_type": "markdown",
   "metadata": {},
   "source": [
    "Add introduction here"
   ]
  },
  {
   "cell_type": "markdown",
   "metadata": {},
   "source": [
    "---\n",
    "<a id=\"one\"></a>\n",
    "## **Importing Packages**\n",
    "<a href=#cont>Back to Table of Contents</a>\n",
    "\n",
    "* **Purpose:** Set up the Python environment with necessary libraries and tools.\n",
    "* **Details:** Listed below is all of the Python packages that will be used throughout the project, such as Pandas for data manipulation, Matplotlib/Seaborn for visualization, scikit-learn for modeling, etc. I have seperated the code blocks to libraries used for specific parts of the project for ease of reading and debugging.\n",
    "---"
   ]
  },
  {
   "cell_type": "code",
   "execution_count": null,
   "metadata": {},
   "outputs": [],
   "source": [
    "# MLFlow is used to perform model hyperparameter tuning\n",
    "!pip install mlflow"
   ]
  },
  {
   "cell_type": "code",
   "execution_count": null,
   "metadata": {},
   "outputs": [],
   "source": [
    "# loading .csv files via google drive:\n",
    "from google.colab import drive"
   ]
  },
  {
   "cell_type": "code",
   "execution_count": 1,
   "metadata": {},
   "outputs": [],
   "source": [
    "# Libraries used for data loading and pre-processing:\n",
    "import pandas as pd\n",
    "import numpy as np\n",
    "\n",
    "from sklearn.feature_extraction.text import TfidfVectorizer\n",
    "from sklearn.preprocessing import StandardScaler"
   ]
  },
  {
   "cell_type": "code",
   "execution_count": null,
   "metadata": {},
   "outputs": [],
   "source": [
    "# Libraries used for data visualisation during exploratory data analysis:\n",
    "import matplotlib.pyplot as plt\n",
    "import seaborn as sns\n",
    "import plotly.express as px\n",
    "import re\n",
    "from scipy import stats"
   ]
  },
  {
   "cell_type": "code",
   "execution_count": null,
   "metadata": {},
   "outputs": [],
   "source": [
    "# Model training libraries:\n",
    "from sklearn.model_selection import cross_val_score\n",
    "from sklearn.pipeline import Pipeline\n",
    "from sklearn.metrics.pairwise import cosine_similarity"
   ]
  },
  {
   "cell_type": "code",
   "execution_count": 2,
   "metadata": {},
   "outputs": [],
   "source": [
    "# Model evaluation libraries:\n",
    "from sklearn.metrics import mean_squared_error"
   ]
  },
  {
   "cell_type": "markdown",
   "metadata": {},
   "source": [
    "---\n",
    "<a id=\"two\"></a>\n",
    "## **Data Collection and Description**\n",
    "<a href=#cont>Back to Table of Contents</a>\n",
    "\n",
    "---"
   ]
  },
  {
   "cell_type": "markdown",
   "metadata": {},
   "source": [
    "### Data Collection:\n",
    "The dataset I am using for this project is publicly available on Kaggle. \n",
    "\n",
    "Link to the Kaggle page that contains the .csv file: https://www.kaggle.com/datasets/mohammadrahdanmofrad/landslide-risk-assessment-factors\n",
    "\n",
    "The Kaggle page mentions that it was sourced from 'Topography Maps and Google Erath'[sic]. Nothing further is mentioned regarding sourcing data. The dataset author, Mohamad Rahdan, is a Geospatial Data Scientist.\n",
    "\n",
    "The data is licensed to the CC BY-SA 4.0, or the Creative Commons Attribution-ShareAlike 4.0 International. This means I may:\n",
    "- Share — copy and redistribute the material in any medium or format for any purpose, even commercially.\n",
    "- Adapt — remix, transform, and build upon the material for any purpose, even commercially.\n",
    "\n",
    "Please note, however, according to this license I must comply to the following rules:\n",
    "- Attribution — You must give appropriate credit , provide a link to the license, and indicate if changes were made . You may do so in any reasonable manner, but not in any way that suggests the licensor endorses you or your use.\n",
    "- ShareAlike — If you remix, transform, or build upon the material, you must distribute your contributions under the same license as the original.\n",
    "- No additional restrictions — You may not apply legal terms or technological measures that legally restrict others from doing anything the license permits.\n",
    "\n",
    "The above two paragraphs were copied directly off the Creative Commons website, linked below.\n",
    "https://creativecommons.org/licenses/by-sa/4.0/\n",
    "\n",
    "### Data Description:\n",
    "The dataset contains over 4000 landslide hazard points in Iran. Each point includes longitude and latitude information to help locate the point on a map. \n",
    "\n",
    "##### Definition: \"Landslide point\":\n",
    "\n",
    "A \"Landslide Point\" refers to a specific geographical location that has been identified as having a heightened risk of experiencing landslides. This designation is typically based on various factors such as the area's slope, soil composition, rainfall patterns, and other environmental conditions that contribute to instability and susceptibility to landslides. Landslide points are often determined through analysis of historical landslide data, geological surveys, and climate assessments, and are used to assess and mitigate risks in vulnerable regions.\n",
    "\n",
    "##### The dataset contains 15 columns: [descriptions taken directly off the Kaggle page]\n",
    "- `ID`\n",
    "- `LONG`: The longitude of the landslide point\n",
    "- `LAT`: The latitude of the landslide point\n",
    "- `SUB_Basin`: The name of the watershed of the landslide point\n",
    "- `Elevation`: The elevation of the landslide point from sea level (m)\n",
    "- `AAP(mm)`: The average annual precipitation at the landslide point\n",
    "- `RiverDIST(m)`: The distance of the landslide point from the river\n",
    "- `FaultDIST(m)`: The distance of the landslide point from the fault\n",
    "- `Landuse_Type`: The landuse type at the landslide point\n",
    "- `Slope(Percent)`: The slope at the landslide point (Values range from 0 to 100%)\n",
    "- `Slope(Degrees)`: The slope at the landslide point (Values range from 0 to 90)\n",
    "- `GEO_UNIT`: The geology unit of the landslide point\n",
    "- `DES_GEOUNI`: The description of the geology unit of the landslide point\n",
    "- `Climate_Type`: The climate type of the landslide point\n",
    "- `DES_ClimateType`: The description of the climate type of the landslide point\n",
    "\n",
    "All but six columns are numerical. The exceptions are:\n",
    "- `SUB_Basin`\n",
    "- `Landuse_Type`\n",
    "- `GEO_UNIT`\n",
    "- `DES_GEOUNI`\n",
    "- `Climate_Type`\n",
    "- `DES_ClimateType`\n",
    "\n",
    "All are instances of text data.\n",
    "\n",
    "##### First impressions:\n",
    "This dataset is very thorough, as each landslide point contains a large variety of different factors, like distance to river and fault, slope, geology unit, etc.\n",
    "\n",
    "One major issue is the fact that this dataset focuses on landslide points in Iran. For this project to provide real-world benefit, the dataset would be better to contain a variety of countries' landslide risk points. Despite this setback, a workaround would be to use the information gathered here and apply it to countries and regions of similar climate and topographical setting.\n",
    "\n",
    "With regards to model building:\n",
    "- We can look into classification, where we would input a new location and determine if it is a possible landslide point. This would be valuable to predict possible landslide points.\n",
    "- We could also look into unsupervised learning, by applying KNN clustering (or something similar) to the landslide points. It would enable us to understand different categories of landslides. This could help researchers. "
   ]
  },
  {
   "cell_type": "markdown",
   "metadata": {},
   "source": [
    "---\n",
    "<a id=\"three\"></a>\n",
    "## **Loading Data**\n",
    "<a href=#cont>Back to Table of Contents</a>\n",
    "\n",
    "* **Purpose:** Load the data into the notebook for manipulation and analysis.\n",
    "* **Details:** Show the code used to load the data and display the first few rows to give a sense of what the raw data looks like.\n",
    "---"
   ]
  },
  {
   "cell_type": "code",
   "execution_count": 5,
   "metadata": {},
   "outputs": [],
   "source": [
    "# Loading via pandas when using Jupyter Notebooks\n",
    "landslide = pd.read_csv('Landslide_Factors_IRAN.csv')"
   ]
  },
  {
   "cell_type": "code",
   "execution_count": 7,
   "metadata": {},
   "outputs": [
    {
     "data": {
      "text/html": [
       "<div>\n",
       "<style scoped>\n",
       "    .dataframe tbody tr th:only-of-type {\n",
       "        vertical-align: middle;\n",
       "    }\n",
       "\n",
       "    .dataframe tbody tr th {\n",
       "        vertical-align: top;\n",
       "    }\n",
       "\n",
       "    .dataframe thead th {\n",
       "        text-align: right;\n",
       "    }\n",
       "</style>\n",
       "<table border=\"1\" class=\"dataframe\">\n",
       "  <thead>\n",
       "    <tr style=\"text-align: right;\">\n",
       "      <th></th>\n",
       "      <th>ID</th>\n",
       "      <th>LONG</th>\n",
       "      <th>LAT</th>\n",
       "      <th>SUB_Basin</th>\n",
       "      <th>Elevation</th>\n",
       "      <th>AAP(mm)</th>\n",
       "      <th>RiverDIST(m)</th>\n",
       "      <th>FaultDIST(m)</th>\n",
       "      <th>Landuse_Type</th>\n",
       "      <th>Slop(Percent)</th>\n",
       "      <th>Slop(Degrees)</th>\n",
       "      <th>GEO_UNIT</th>\n",
       "      <th>DES_GEOUNI</th>\n",
       "      <th>Climate_Type</th>\n",
       "      <th>DES_ClimateType</th>\n",
       "    </tr>\n",
       "  </thead>\n",
       "  <tbody>\n",
       "    <tr>\n",
       "      <th>0</th>\n",
       "      <td>1</td>\n",
       "      <td>52.326</td>\n",
       "      <td>27.763</td>\n",
       "      <td>Mehran</td>\n",
       "      <td>617.0</td>\n",
       "      <td>137</td>\n",
       "      <td>1448.705292</td>\n",
       "      <td>40639.57890</td>\n",
       "      <td>poorrange</td>\n",
       "      <td>42.240669</td>\n",
       "      <td>22.899523</td>\n",
       "      <td>EOas-ja</td>\n",
       "      <td>Undivided Asmari and Jahrum Formation , regard...</td>\n",
       "      <td>A-M-VW</td>\n",
       "      <td>Warm and humid, with a humid period longer tha...</td>\n",
       "    </tr>\n",
       "    <tr>\n",
       "      <th>1</th>\n",
       "      <td>2</td>\n",
       "      <td>52.333</td>\n",
       "      <td>27.772</td>\n",
       "      <td>Mehran</td>\n",
       "      <td>944.0</td>\n",
       "      <td>137</td>\n",
       "      <td>344.299484</td>\n",
       "      <td>40135.02913</td>\n",
       "      <td>mix(woodland_x)</td>\n",
       "      <td>68.219116</td>\n",
       "      <td>34.301464</td>\n",
       "      <td>KEpd-gu</td>\n",
       "      <td>Keewatin Epedotic quartz diorite</td>\n",
       "      <td>A-M-VW</td>\n",
       "      <td>Warm and humid, with a humid period longer tha...</td>\n",
       "    </tr>\n",
       "    <tr>\n",
       "      <th>2</th>\n",
       "      <td>3</td>\n",
       "      <td>52.326</td>\n",
       "      <td>27.763</td>\n",
       "      <td>Mehran</td>\n",
       "      <td>617.0</td>\n",
       "      <td>137</td>\n",
       "      <td>1448.705292</td>\n",
       "      <td>40639.57890</td>\n",
       "      <td>poorrange</td>\n",
       "      <td>42.240669</td>\n",
       "      <td>22.899523</td>\n",
       "      <td>EOas-ja</td>\n",
       "      <td>Undivided Asmari and Jahrum Formation , regard...</td>\n",
       "      <td>A-M-VW</td>\n",
       "      <td>Warm and humid, with a humid period longer tha...</td>\n",
       "    </tr>\n",
       "  </tbody>\n",
       "</table>\n",
       "</div>"
      ],
      "text/plain": [
       "   ID    LONG     LAT SUB_Basin  Elevation  AAP(mm)  RiverDIST(m)  \\\n",
       "0   1  52.326  27.763    Mehran      617.0      137   1448.705292   \n",
       "1   2  52.333  27.772    Mehran      944.0      137    344.299484   \n",
       "2   3  52.326  27.763    Mehran      617.0      137   1448.705292   \n",
       "\n",
       "   FaultDIST(m)     Landuse_Type  Slop(Percent)  Slop(Degrees) GEO_UNIT  \\\n",
       "0   40639.57890        poorrange      42.240669      22.899523  EOas-ja   \n",
       "1   40135.02913  mix(woodland_x)      68.219116      34.301464  KEpd-gu   \n",
       "2   40639.57890        poorrange      42.240669      22.899523  EOas-ja   \n",
       "\n",
       "                                          DES_GEOUNI Climate_Type  \\\n",
       "0  Undivided Asmari and Jahrum Formation , regard...       A-M-VW   \n",
       "1                   Keewatin Epedotic quartz diorite       A-M-VW   \n",
       "2  Undivided Asmari and Jahrum Formation , regard...       A-M-VW   \n",
       "\n",
       "                                     DES_ClimateType  \n",
       "0  Warm and humid, with a humid period longer tha...  \n",
       "1  Warm and humid, with a humid period longer tha...  \n",
       "2  Warm and humid, with a humid period longer tha...  "
      ]
     },
     "execution_count": 7,
     "metadata": {},
     "output_type": "execute_result"
    }
   ],
   "source": [
    "# Check that the data was imported correctly\n",
    "landslide.head(3)"
   ]
  },
  {
   "cell_type": "markdown",
   "metadata": {},
   "source": [
    "From the above code, we see that the dataframe imports correctly. \n",
    "\n",
    "Some issues noted:\n",
    "- `GEO_UNIT` is in code form and difficult to understand.\n",
    "- `Climate_Type` is also in code form and difficult to understand.\n",
    "- `DES_ClimateType` repeats. Consider removing it and only relying on `Climate_Type`.\n",
    "- `ID` was loaded as a column, but functions as index. Need to either remove or replace existing index."
   ]
  },
  {
   "cell_type": "code",
   "execution_count": 8,
   "metadata": {},
   "outputs": [
    {
     "data": {
      "text/plain": [
       "(4295, 15)"
      ]
     },
     "execution_count": 8,
     "metadata": {},
     "output_type": "execute_result"
    }
   ],
   "source": [
    "# Check size of dataframe\n",
    "landslide.shape"
   ]
  },
  {
   "cell_type": "markdown",
   "metadata": {},
   "source": [
    "The dataframe contains 4295 entries, and has 15 columns."
   ]
  },
  {
   "cell_type": "code",
   "execution_count": 9,
   "metadata": {},
   "outputs": [
    {
     "name": "stdout",
     "output_type": "stream",
     "text": [
      "<class 'pandas.core.frame.DataFrame'>\n",
      "RangeIndex: 4295 entries, 0 to 4294\n",
      "Data columns (total 15 columns):\n",
      " #   Column           Non-Null Count  Dtype  \n",
      "---  ------           --------------  -----  \n",
      " 0   ID               4295 non-null   int64  \n",
      " 1   LONG             4295 non-null   float64\n",
      " 2   LAT              4295 non-null   float64\n",
      " 3   SUB_Basin        4295 non-null   object \n",
      " 4   Elevation        4295 non-null   float64\n",
      " 5   AAP(mm)          4295 non-null   int64  \n",
      " 6   RiverDIST(m)     4295 non-null   float64\n",
      " 7   FaultDIST(m)     4295 non-null   float64\n",
      " 8   Landuse_Type     4295 non-null   object \n",
      " 9   Slop(Percent)    4295 non-null   float64\n",
      " 10  Slop(Degrees)    4295 non-null   float64\n",
      " 11  GEO_UNIT         4295 non-null   object \n",
      " 12  DES_GEOUNI       4295 non-null   object \n",
      " 13  Climate_Type     4295 non-null   object \n",
      " 14  DES_ClimateType  4295 non-null   object \n",
      "dtypes: float64(7), int64(2), object(6)\n",
      "memory usage: 503.4+ KB\n"
     ]
    }
   ],
   "source": [
    "# Get each column's data type, and count non-null values\n",
    "landslide.info()"
   ]
  },
  {
   "cell_type": "markdown",
   "metadata": {},
   "source": [
    "From this we find out what each column's data type is, as well as the total number of non-null values in each.\n",
    "\n",
    "Analysis:\n",
    "- The three data types present are:\n",
    "    - Integer (2 columns)\n",
    "    - Float (7 columns)\n",
    "    - Object (typically string values) (6 columns)\n",
    "- No column contains null values, which makes our job a little easier in the next phase."
   ]
  },
  {
   "cell_type": "markdown",
   "metadata": {},
   "source": [
    "---\n",
    "<a id=\"four\"></a>\n",
    "## **Data Cleaning and Filtering**\n",
    "<a href=#cont>Back to Table of Contents</a>\n",
    "\n",
    "* **Purpose:** Prepare the data for analysis by cleaning and filtering.\n",
    "* **Details:** Include steps for handling missing values, removing outliers, correcting errors, and possibly reducing the data (filtering based on certain criteria or features).\n",
    "---"
   ]
  },
  {
   "cell_type": "code",
   "execution_count": null,
   "metadata": {},
   "outputs": [],
   "source": [
    "#Please use code cells to code in and do not forget to comment your code."
   ]
  },
  {
   "cell_type": "markdown",
   "metadata": {},
   "source": [
    "---\n",
    "<a id=\"five\"></a>\n",
    "## **Exploratory Data Analysis (EDA)**\n",
    "<a href=#cont>Back to Table of Contents</a>\n",
    "\n",
    "* **Purpose:** Explore and visualize the data to uncover patterns, trends, and relationships.\n",
    "* **Details:** Use statistics and visualizations to explore the data. This may include histograms, box plots, scatter plots, and correlation matrices. Discuss any significant findings.\n",
    "---\n"
   ]
  },
  {
   "cell_type": "code",
   "execution_count": null,
   "metadata": {},
   "outputs": [],
   "source": [
    "#Please use code cells to code in and do not forget to comment your code."
   ]
  },
  {
   "cell_type": "markdown",
   "metadata": {},
   "source": [
    "---\n",
    "<a id=\"six\"></a>\n",
    "## **Modeling**\n",
    "<a href=#cont>Back to Table of Contents</a>\n",
    "\n",
    "* **Purpose:** Develop and train predictive or statistical models.\n",
    "* **Details:** Describe the choice of models, feature selection and engineering processes, and show how the models are trained. Include code for setting up the models and explanations of the model parameters.\n",
    "---\n"
   ]
  },
  {
   "cell_type": "code",
   "execution_count": null,
   "metadata": {},
   "outputs": [],
   "source": [
    "#Please use code cells to code in and do not forget to comment your code."
   ]
  },
  {
   "cell_type": "markdown",
   "metadata": {},
   "source": [
    "---\n",
    "<a id=\"seven\"></a>\n",
    "## **Evaluation and Validation**\n",
    "<a href=#cont>Back to Table of Contents</a>\n",
    "\n",
    "* **Purpose:** Evaluate and validate the effectiveness and accuracy of the models.\n",
    "* **Details:** Present metrics used to evaluate the models, such as accuracy, precision, recall, F1-score, etc. Discuss validation techniques employed, such as cross-validation or train/test split.\n",
    "---"
   ]
  },
  {
   "cell_type": "code",
   "execution_count": null,
   "metadata": {},
   "outputs": [],
   "source": [
    "#Please use code cells to code in and do not forget to comment your code."
   ]
  },
  {
   "cell_type": "markdown",
   "metadata": {},
   "source": [
    "---\n",
    "<a id=\"eight\"></a>\n",
    "## **Final Model**\n",
    "<a href=#cont>Back to Table of Contents</a>\n",
    "\n",
    "* **Purpose:** Present the final model and its performance.\n",
    "* **Details:** Highlight the best-performing model and discuss its configuration, performance, and why it was chosen over others.\n",
    "---\n"
   ]
  },
  {
   "cell_type": "code",
   "execution_count": null,
   "metadata": {},
   "outputs": [],
   "source": [
    "#Please use code cells to code in and do not forget to comment your code."
   ]
  },
  {
   "cell_type": "markdown",
   "metadata": {},
   "source": [
    "---\n",
    "<a id=\"nine\"></a>\n",
    "## **Conclusion and Future Work**\n",
    "<a href=#cont>Back to Table of Contents</a>\n",
    "\n",
    "* **Purpose:** Summarize the findings and discuss future directions.\n",
    "* **Details:** Conclude with a summary of the results, insights gained, limitations of the study, and suggestions for future projects or improvements in methodology or data collection.\n",
    "---\n"
   ]
  },
  {
   "cell_type": "code",
   "execution_count": null,
   "metadata": {},
   "outputs": [],
   "source": [
    "#Please use code cells to code in and do not forget to comment your code."
   ]
  },
  {
   "cell_type": "markdown",
   "metadata": {},
   "source": [
    "---\n",
    "<a id=\"ten\"></a>\n",
    "## **References**\n",
    "<a href=#cont>Back to Table of Contents</a>\n",
    "\n",
    "* **Purpose:** Provide citations and sources of external content.\n",
    "* **Details:** List all the references and sources consulted during the project, including data sources, research papers, and documentation for tools and libraries used.\n",
    "---"
   ]
  },
  {
   "cell_type": "markdown",
   "metadata": {},
   "source": [
    "Licensing information: https://creativecommons.org/licenses/by-sa/4.0/\n",
    "\n",
    "Dataset: https://www.kaggle.com/datasets/mohammadrahdanmofrad/landslide-risk-assessment-factors"
   ]
  },
  {
   "cell_type": "markdown",
   "metadata": {},
   "source": [
    "## Additional Sections to Consider\n",
    "\n",
    "* ### Appendix: \n",
    "For any additional code, detailed tables, or extended data visualizations that are supplementary to the main content.\n",
    "\n",
    "* ### Contributors: \n",
    "If this is a group project, list the contributors and their roles or contributions to the project.\n"
   ]
  },
  {
   "cell_type": "code",
   "execution_count": null,
   "metadata": {},
   "outputs": [],
   "source": []
  }
 ],
 "metadata": {
  "kernelspec": {
   "display_name": "Python 3 (ipykernel)",
   "language": "python",
   "name": "python3"
  },
  "language_info": {
   "codemirror_mode": {
    "name": "ipython",
    "version": 3
   },
   "file_extension": ".py",
   "mimetype": "text/x-python",
   "name": "python",
   "nbconvert_exporter": "python",
   "pygments_lexer": "ipython3",
   "version": "3.11.5"
  }
 },
 "nbformat": 4,
 "nbformat_minor": 2
}
