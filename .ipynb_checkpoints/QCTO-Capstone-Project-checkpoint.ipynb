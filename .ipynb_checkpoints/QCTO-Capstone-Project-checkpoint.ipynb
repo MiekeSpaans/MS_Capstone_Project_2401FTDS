{
 "cells": [
  {
   "cell_type": "markdown",
   "metadata": {
    "id": "v0sI5RAmqVkj"
   },
   "source": [
    "# QCTO - Workplace Module\n",
    "\n",
    "### Investigating and Predicting Landslide Risk in Iran\n",
    "#### Done By: Mieke Spaans\n",
    "\n",
    "© ExploreAI 2024\n",
    "\n",
    "---\n",
    " <a id=\"cont\"></a>\n",
    "## Table of Contents\n",
    "\n",
    "<a href=#BC> Background Context</a>\n",
    "\n",
    "<a href=#one>1. Importing Packages</a>\n",
    "\n",
    "<a href=#two>2. Data Collection and Description</a>\n",
    "\n",
    "<a href=#three>3. Loading Data </a>\n",
    "\n",
    "<a href=#four>4. Data Cleaning and Filtering</a>\n",
    "\n",
    "<a href=#five>5. Exploratory Data Analysis (EDA)</a>\n",
    "\n",
    "<a href=#six>6. Modeling </a>\n",
    "\n",
    "<a href=#seven>7. Evaluation and Validation</a>\n",
    "\n",
    "<a href=#eight>8. Final Model</a>\n",
    "\n",
    "<a href=#nine>9. Conclusion and Future Work</a>\n",
    "\n",
    "<a href=#ten>10. References</a>"
   ]
  },
  {
   "cell_type": "markdown",
   "metadata": {
    "id": "IC-WAKMzqVkl"
   },
   "source": [
    "---\n",
    " <a id=\"BC\"></a>\n",
    "## **Background Context**\n",
    "<a href=#cont>Back to Table of Contents</a>\n",
    "\n",
    "* **Purpose:** Introduce the project, outline its goals, and explain its significance.\n",
    "* **Details:** Include information about the problem domain, the specific questions or challenges the project aims to address, and any relevant background information that sets the stage for the work.\n",
    "---"
   ]
  },
  {
   "cell_type": "markdown",
   "metadata": {
    "id": "tPZbZeHLqVkl"
   },
   "source": [
    "Add introduction here"
   ]
  },
  {
   "cell_type": "markdown",
   "metadata": {
    "id": "HaCwPN40qVkm"
   },
   "source": [
    "---\n",
    "<a id=\"one\"></a>\n",
    "## **Importing Packages**\n",
    "<a href=#cont>Back to Table of Contents</a>\n",
    "\n",
    "---"
   ]
  },
  {
   "cell_type": "markdown",
   "metadata": {
    "id": "KMkJ8v3ariMh"
   },
   "source": [
    "\n",
    "**Purpose**: Set up the Python environment with necessary libraries and tools.\n",
    "\n",
    "Listed below is all of the Python packages that will be used throughout the project, such as Pandas for data manipulation, Matplotlib/Seaborn for visualization, scikit-learn for modeling, etc. I have seperated the code blocks to libraries used for specific parts of the project for ease of reading and debugging."
   ]
  },
  {
   "cell_type": "code",
   "execution_count": 13,
   "metadata": {
    "id": "lrvvSx-3qVkm"
   },
   "outputs": [],
   "source": [
    "# MLFlow is used to perform model hyperparameter tuning\n",
    "#!pip install mlflow"
   ]
  },
  {
   "cell_type": "code",
   "execution_count": 14,
   "metadata": {
    "id": "gzz2Ra1nqVkm"
   },
   "outputs": [],
   "source": [
    "# loading .csv files via google drive:\n",
    "#from google.colab import drive"
   ]
  },
  {
   "cell_type": "code",
   "execution_count": 43,
   "metadata": {
    "id": "emu79gZlqVkn"
   },
   "outputs": [],
   "source": [
    "# Libraries used for data loading and pre-processing:\n",
    "import pandas as pd\n",
    "import numpy as np\n",
    "\n",
    "from sklearn.preprocessing import LabelEncoder\n",
    "from sklearn.preprocessing import StandardScaler"
   ]
  },
  {
   "cell_type": "code",
   "execution_count": 16,
   "metadata": {
    "id": "cy7oFZemqVkn"
   },
   "outputs": [],
   "source": [
    "# Libraries used for data visualisation during exploratory data analysis:\n",
    "import matplotlib.pyplot as plt\n",
    "import seaborn as sns\n",
    "import plotly.express as px\n",
    "import re\n",
    "from scipy import stats\n",
    "import geopandas as gpd\n",
    "from sklearn.metrics.pairwise import cosine_similarity\n",
    "import matplotlib.image as mpimg\n",
    "import contextily as ctx"
   ]
  },
  {
   "cell_type": "code",
   "execution_count": 17,
   "metadata": {
    "id": "T0P2WZwnqVkn"
   },
   "outputs": [],
   "source": [
    "# Model training libraries:\n",
    "from sklearn.model_selection import cross_val_score\n",
    "from sklearn.pipeline import Pipeline\n",
    "from sklearn.metrics.pairwise import cosine_similarity"
   ]
  },
  {
   "cell_type": "code",
   "execution_count": 18,
   "metadata": {
    "id": "z0tDaRe9qVkn"
   },
   "outputs": [],
   "source": [
    "# Model evaluation libraries:\n",
    "from sklearn.metrics import mean_squared_error"
   ]
  },
  {
   "cell_type": "markdown",
   "metadata": {
    "id": "E13TF0p2qVkn"
   },
   "source": [
    "---\n",
    "<a id=\"two\"></a>\n",
    "## **Data Collection and Description**\n",
    "<a href=#cont>Back to Table of Contents</a>\n",
    "\n",
    "---"
   ]
  },
  {
   "cell_type": "markdown",
   "metadata": {
    "id": "Yh1pfQQRqVko"
   },
   "source": [
    "### Data Collection:\n",
    "The dataset I am using for this project is publicly available on Kaggle.\n",
    "\n",
    "Link to the Kaggle page that contains the .csv file: https://www.kaggle.com/datasets/mohammadrahdanmofrad/landslide-risk-assessment-factors\n",
    "\n",
    "The Kaggle page mentions that it was sourced from 'Topography Maps and Google Erath'[sic]. Nothing further is mentioned regarding sourcing data. The dataset author, Mohamad Rahdan, is a Geospatial Data Scientist.\n",
    "\n",
    "The data is licensed to the CC BY-SA 4.0, or the Creative Commons Attribution-ShareAlike 4.0 International. This means I may:\n",
    "- Share — copy and redistribute the material in any medium or format for any purpose, even commercially.\n",
    "- Adapt — remix, transform, and build upon the material for any purpose, even commercially.\n",
    "\n",
    "Please note, however, according to this license I must comply to the following rules:\n",
    "- Attribution — You must give appropriate credit , provide a link to the license, and indicate if changes were made . You may do so in any reasonable manner, but not in any way that suggests the licensor endorses you or your use.\n",
    "- ShareAlike — If you remix, transform, or build upon the material, you must distribute your contributions under the same license as the original.\n",
    "- No additional restrictions — You may not apply legal terms or technological measures that legally restrict others from doing anything the license permits.\n",
    "\n",
    "The above two paragraphs were copied directly off the Creative Commons website, linked below.\n",
    "https://creativecommons.org/licenses/by-sa/4.0/\n",
    "\n",
    "### Data Description:\n",
    "The dataset contains over 4000 landslide hazard points in Iran. Each point includes longitude and latitude information to help locate the point on a map.\n",
    "\n",
    "##### Definition: \"Landslide point\":\n",
    "\n",
    "A \"Landslide Point\" refers to a specific geographical location that has been identified as having a heightened risk of experiencing landslides. This designation is typically based on various factors such as the area's slope, soil composition, rainfall patterns, and other environmental conditions that contribute to instability and susceptibility to landslides. Landslide points are often determined through analysis of historical landslide data, geological surveys, and climate assessments, and are used to assess and mitigate risks in vulnerable regions.\n",
    "\n",
    "##### The dataset contains 15 columns: [descriptions taken directly off the Kaggle page]\n",
    "- `ID`\n",
    "- `LONG`: The longitude of the landslide point\n",
    "- `LAT`: The latitude of the landslide point\n",
    "- `SUB_Basin`: The name of the watershed of the landslide point\n",
    "- `Elevation`: The elevation of the landslide point from sea level (m)\n",
    "- `AAP(mm)`: The average annual precipitation at the landslide point\n",
    "- `RiverDIST(m)`: The distance of the landslide point from the river\n",
    "- `FaultDIST(m)`: The distance of the landslide point from the fault\n",
    "- `Landuse_Type`: The landuse type at the landslide point\n",
    "- `Slope(Percent)`: The slope at the landslide point (Values range from 0 to 100%)\n",
    "- `Slope(Degrees)`: The slope at the landslide point (Values range from 0 to 90)\n",
    "- `GEO_UNIT`: The geology unit of the landslide point\n",
    "- `DES_GEOUNI`: The description of the geology unit of the landslide point\n",
    "- `Climate_Type`: The climate type of the landslide point\n",
    "- `DES_ClimateType`: The description of the climate type of the landslide point\n",
    "\n",
    "All but six columns are numerical. The exceptions are:\n",
    "- `SUB_Basin`\n",
    "- `Landuse_Type`\n",
    "- `GEO_UNIT`\n",
    "- `DES_GEOUNI`\n",
    "- `Climate_Type`\n",
    "- `DES_ClimateType`\n",
    "\n",
    "All are instances of text data.\n",
    "\n",
    "##### First impressions:\n",
    "This dataset is very thorough, as each landslide point contains a large variety of different factors, like distance to river and fault, slope, geology unit, etc.\n",
    "\n",
    "One major issue is the fact that this dataset focuses on landslide points in Iran. For this project to provide real-world benefit, the dataset would be better to contain a variety of countries' landslide risk points. Despite this setback, a workaround would be to use the information gathered here and apply it to countries and regions of similar climate and topographical setting.\n",
    "\n",
    "With regards to model building:\n",
    "- We can look into classification, where we would input a new location and determine if it is a possible landslide point. This would be valuable to predict possible landslide points.\n",
    "- We could also look into unsupervised learning, by applying KNN clustering (or something similar) to the landslide points. It would enable us to understand different categories of landslides. This could help researchers."
   ]
  },
  {
   "cell_type": "markdown",
   "metadata": {
    "id": "YYf9EI7SqVko"
   },
   "source": [
    "---\n",
    "<a id=\"three\"></a>\n",
    "## **Loading Data**\n",
    "<a href=#cont>Back to Table of Contents</a>\n",
    "---"
   ]
  },
  {
   "cell_type": "code",
   "execution_count": 19,
   "metadata": {
    "id": "FHzP7NllqVko"
   },
   "outputs": [],
   "source": [
    "# Loading via pandas when using Jupyter Notebooks\n",
    "landslide = pd.read_csv('Landslide_Factors_IRAN.csv')"
   ]
  },
  {
   "cell_type": "code",
   "execution_count": 20,
   "metadata": {
    "id": "fgxp-TWkqVko",
    "outputId": "062e5901-ecf7-4676-b531-f1f92c6932b6"
   },
   "outputs": [
    {
     "data": {
      "text/html": [
       "<div>\n",
       "<style scoped>\n",
       "    .dataframe tbody tr th:only-of-type {\n",
       "        vertical-align: middle;\n",
       "    }\n",
       "\n",
       "    .dataframe tbody tr th {\n",
       "        vertical-align: top;\n",
       "    }\n",
       "\n",
       "    .dataframe thead th {\n",
       "        text-align: right;\n",
       "    }\n",
       "</style>\n",
       "<table border=\"1\" class=\"dataframe\">\n",
       "  <thead>\n",
       "    <tr style=\"text-align: right;\">\n",
       "      <th></th>\n",
       "      <th>ID</th>\n",
       "      <th>LONG</th>\n",
       "      <th>LAT</th>\n",
       "      <th>SUB_Basin</th>\n",
       "      <th>Elevation</th>\n",
       "      <th>AAP(mm)</th>\n",
       "      <th>RiverDIST(m)</th>\n",
       "      <th>FaultDIST(m)</th>\n",
       "      <th>Landuse_Type</th>\n",
       "      <th>Slop(Percent)</th>\n",
       "      <th>Slop(Degrees)</th>\n",
       "      <th>GEO_UNIT</th>\n",
       "      <th>DES_GEOUNI</th>\n",
       "      <th>Climate_Type</th>\n",
       "      <th>DES_ClimateType</th>\n",
       "    </tr>\n",
       "  </thead>\n",
       "  <tbody>\n",
       "    <tr>\n",
       "      <th>0</th>\n",
       "      <td>1</td>\n",
       "      <td>52.326</td>\n",
       "      <td>27.763</td>\n",
       "      <td>Mehran</td>\n",
       "      <td>617.0</td>\n",
       "      <td>137</td>\n",
       "      <td>1448.705292</td>\n",
       "      <td>40639.57890</td>\n",
       "      <td>poorrange</td>\n",
       "      <td>42.240669</td>\n",
       "      <td>22.899523</td>\n",
       "      <td>EOas-ja</td>\n",
       "      <td>Undivided Asmari and Jahrum Formation , regard...</td>\n",
       "      <td>A-M-VW</td>\n",
       "      <td>Warm and humid, with a humid period longer tha...</td>\n",
       "    </tr>\n",
       "    <tr>\n",
       "      <th>1</th>\n",
       "      <td>2</td>\n",
       "      <td>52.333</td>\n",
       "      <td>27.772</td>\n",
       "      <td>Mehran</td>\n",
       "      <td>944.0</td>\n",
       "      <td>137</td>\n",
       "      <td>344.299484</td>\n",
       "      <td>40135.02913</td>\n",
       "      <td>mix(woodland_x)</td>\n",
       "      <td>68.219116</td>\n",
       "      <td>34.301464</td>\n",
       "      <td>KEpd-gu</td>\n",
       "      <td>Keewatin Epedotic quartz diorite</td>\n",
       "      <td>A-M-VW</td>\n",
       "      <td>Warm and humid, with a humid period longer tha...</td>\n",
       "    </tr>\n",
       "    <tr>\n",
       "      <th>2</th>\n",
       "      <td>3</td>\n",
       "      <td>52.326</td>\n",
       "      <td>27.763</td>\n",
       "      <td>Mehran</td>\n",
       "      <td>617.0</td>\n",
       "      <td>137</td>\n",
       "      <td>1448.705292</td>\n",
       "      <td>40639.57890</td>\n",
       "      <td>poorrange</td>\n",
       "      <td>42.240669</td>\n",
       "      <td>22.899523</td>\n",
       "      <td>EOas-ja</td>\n",
       "      <td>Undivided Asmari and Jahrum Formation , regard...</td>\n",
       "      <td>A-M-VW</td>\n",
       "      <td>Warm and humid, with a humid period longer tha...</td>\n",
       "    </tr>\n",
       "  </tbody>\n",
       "</table>\n",
       "</div>"
      ],
      "text/plain": [
       "   ID    LONG     LAT SUB_Basin  Elevation  AAP(mm)  RiverDIST(m)  \\\n",
       "0   1  52.326  27.763    Mehran      617.0      137   1448.705292   \n",
       "1   2  52.333  27.772    Mehran      944.0      137    344.299484   \n",
       "2   3  52.326  27.763    Mehran      617.0      137   1448.705292   \n",
       "\n",
       "   FaultDIST(m)     Landuse_Type  Slop(Percent)  Slop(Degrees) GEO_UNIT  \\\n",
       "0   40639.57890        poorrange      42.240669      22.899523  EOas-ja   \n",
       "1   40135.02913  mix(woodland_x)      68.219116      34.301464  KEpd-gu   \n",
       "2   40639.57890        poorrange      42.240669      22.899523  EOas-ja   \n",
       "\n",
       "                                          DES_GEOUNI Climate_Type  \\\n",
       "0  Undivided Asmari and Jahrum Formation , regard...       A-M-VW   \n",
       "1                   Keewatin Epedotic quartz diorite       A-M-VW   \n",
       "2  Undivided Asmari and Jahrum Formation , regard...       A-M-VW   \n",
       "\n",
       "                                     DES_ClimateType  \n",
       "0  Warm and humid, with a humid period longer tha...  \n",
       "1  Warm and humid, with a humid period longer tha...  \n",
       "2  Warm and humid, with a humid period longer tha...  "
      ]
     },
     "execution_count": 20,
     "metadata": {},
     "output_type": "execute_result"
    }
   ],
   "source": [
    "# Check that the data was imported correctly\n",
    "landslide.head(3)"
   ]
  },
  {
   "cell_type": "markdown",
   "metadata": {
    "id": "qD3-N3kcqVkp"
   },
   "source": [
    "From the above code, we see that the dataframe imports correctly.\n",
    "\n",
    "Some issues noted:\n",
    "- `GEO_UNIT` is in code form and difficult to understand.\n",
    "- `Climate_Type` is also in code form and difficult to understand.\n",
    "- `DES_ClimateType` repeats. Consider removing it and only relying on `Climate_Type`.\n",
    "- `ID` was loaded as a column, but functions as index. Need to either remove or replace existing index."
   ]
  },
  {
   "cell_type": "code",
   "execution_count": 21,
   "metadata": {
    "id": "ROIPz-wiqVkp",
    "outputId": "6f566324-0e33-4bc8-dbe5-b727a58b6349"
   },
   "outputs": [
    {
     "data": {
      "text/plain": [
       "(4295, 15)"
      ]
     },
     "execution_count": 21,
     "metadata": {},
     "output_type": "execute_result"
    }
   ],
   "source": [
    "# Check size of dataframe\n",
    "landslide.shape"
   ]
  },
  {
   "cell_type": "markdown",
   "metadata": {
    "id": "bKTBZ2kcqVkp"
   },
   "source": [
    "The dataframe contains 4295 entries, and has 15 columns."
   ]
  },
  {
   "cell_type": "code",
   "execution_count": 22,
   "metadata": {
    "id": "7-ozTHSKqVkp",
    "outputId": "e785c0df-cd30-4522-8eac-a9969e66791c"
   },
   "outputs": [
    {
     "name": "stdout",
     "output_type": "stream",
     "text": [
      "<class 'pandas.core.frame.DataFrame'>\n",
      "RangeIndex: 4295 entries, 0 to 4294\n",
      "Data columns (total 15 columns):\n",
      " #   Column           Non-Null Count  Dtype  \n",
      "---  ------           --------------  -----  \n",
      " 0   ID               4295 non-null   int64  \n",
      " 1   LONG             4295 non-null   float64\n",
      " 2   LAT              4295 non-null   float64\n",
      " 3   SUB_Basin        4295 non-null   object \n",
      " 4   Elevation        4295 non-null   float64\n",
      " 5   AAP(mm)          4295 non-null   int64  \n",
      " 6   RiverDIST(m)     4295 non-null   float64\n",
      " 7   FaultDIST(m)     4295 non-null   float64\n",
      " 8   Landuse_Type     4295 non-null   object \n",
      " 9   Slop(Percent)    4295 non-null   float64\n",
      " 10  Slop(Degrees)    4295 non-null   float64\n",
      " 11  GEO_UNIT         4295 non-null   object \n",
      " 12  DES_GEOUNI       4295 non-null   object \n",
      " 13  Climate_Type     4295 non-null   object \n",
      " 14  DES_ClimateType  4295 non-null   object \n",
      "dtypes: float64(7), int64(2), object(6)\n",
      "memory usage: 503.4+ KB\n"
     ]
    }
   ],
   "source": [
    "# Get each column's data type, and count non-null values\n",
    "landslide.info()"
   ]
  },
  {
   "cell_type": "markdown",
   "metadata": {
    "id": "_ufQaHKtqVkq"
   },
   "source": [
    "From this we find out what each column's data type is, as well as the total number of non-null values in each.\n",
    "\n",
    "Analysis:\n",
    "- The three data types present are:\n",
    "    - Integer (2 columns)\n",
    "    - Float (7 columns)\n",
    "    - Object (typically string values) (6 columns)\n",
    "- No column contains null values, which makes our job a little easier in the next phase."
   ]
  },
  {
   "cell_type": "markdown",
   "metadata": {
    "id": "CZTsZ3tlqVkq"
   },
   "source": [
    "---\n",
    "<a id=\"four\"></a>\n",
    "## **Data Cleaning and Filtering**\n",
    "<a href=#cont>Back to Table of Contents</a>\n",
    "\n",
    "---"
   ]
  },
  {
   "cell_type": "markdown",
   "metadata": {
    "id": "q4WEsolErypr"
   },
   "source": [
    "**Purpose:** Prepare the data for analysis by cleaning and filtering.\n",
    "\n",
    "**Details:** Steps detailed for handling missing values and removing outliers."
   ]
  },
  {
   "cell_type": "markdown",
   "metadata": {
    "id": "8Lj1wKH_sgs4"
   },
   "source": [
    "### Checking for null values"
   ]
  },
  {
   "cell_type": "code",
   "execution_count": 23,
   "metadata": {
    "id": "IHNxP5gzqVkq",
    "outputId": "5477d58d-fb9b-4f85-c5cc-17bbbfedb9b5"
   },
   "outputs": [
    {
     "name": "stdout",
     "output_type": "stream",
     "text": [
      "<class 'pandas.core.frame.DataFrame'>\n",
      "RangeIndex: 4295 entries, 0 to 4294\n",
      "Data columns (total 15 columns):\n",
      " #   Column           Non-Null Count  Dtype  \n",
      "---  ------           --------------  -----  \n",
      " 0   ID               4295 non-null   int64  \n",
      " 1   LONG             4295 non-null   float64\n",
      " 2   LAT              4295 non-null   float64\n",
      " 3   SUB_Basin        4295 non-null   object \n",
      " 4   Elevation        4295 non-null   float64\n",
      " 5   AAP(mm)          4295 non-null   int64  \n",
      " 6   RiverDIST(m)     4295 non-null   float64\n",
      " 7   FaultDIST(m)     4295 non-null   float64\n",
      " 8   Landuse_Type     4295 non-null   object \n",
      " 9   Slop(Percent)    4295 non-null   float64\n",
      " 10  Slop(Degrees)    4295 non-null   float64\n",
      " 11  GEO_UNIT         4295 non-null   object \n",
      " 12  DES_GEOUNI       4295 non-null   object \n",
      " 13  Climate_Type     4295 non-null   object \n",
      " 14  DES_ClimateType  4295 non-null   object \n",
      "dtypes: float64(7), int64(2), object(6)\n",
      "memory usage: 503.4+ KB\n"
     ]
    }
   ],
   "source": [
    "# Checking for null values:\n",
    "landslide.info()"
   ]
  },
  {
   "cell_type": "markdown",
   "metadata": {
    "id": "rtriFkFMtXOE"
   },
   "source": [
    "As discussed in the previous part (Loading Data) we see that there are no null values present."
   ]
  },
  {
   "cell_type": "markdown",
   "metadata": {
    "id": "s_CjsT2isnO9"
   },
   "source": [
    "### Removing the column `ID`, as it's values coincide with the index"
   ]
  },
  {
   "cell_type": "code",
   "execution_count": 24,
   "metadata": {
    "id": "SCp9kuBjqVkq",
    "outputId": "bba1dc12-9969-4ed2-cfcc-4eec8eb44dd9"
   },
   "outputs": [
    {
     "data": {
      "text/html": [
       "<div>\n",
       "<style scoped>\n",
       "    .dataframe tbody tr th:only-of-type {\n",
       "        vertical-align: middle;\n",
       "    }\n",
       "\n",
       "    .dataframe tbody tr th {\n",
       "        vertical-align: top;\n",
       "    }\n",
       "\n",
       "    .dataframe thead th {\n",
       "        text-align: right;\n",
       "    }\n",
       "</style>\n",
       "<table border=\"1\" class=\"dataframe\">\n",
       "  <thead>\n",
       "    <tr style=\"text-align: right;\">\n",
       "      <th></th>\n",
       "      <th>LONG</th>\n",
       "      <th>LAT</th>\n",
       "      <th>SUB_Basin</th>\n",
       "      <th>Elevation</th>\n",
       "      <th>AAP(mm)</th>\n",
       "      <th>RiverDIST(m)</th>\n",
       "      <th>FaultDIST(m)</th>\n",
       "      <th>Landuse_Type</th>\n",
       "      <th>Slop(Percent)</th>\n",
       "      <th>Slop(Degrees)</th>\n",
       "      <th>GEO_UNIT</th>\n",
       "      <th>DES_GEOUNI</th>\n",
       "      <th>Climate_Type</th>\n",
       "      <th>DES_ClimateType</th>\n",
       "    </tr>\n",
       "  </thead>\n",
       "  <tbody>\n",
       "    <tr>\n",
       "      <th>0</th>\n",
       "      <td>52.326</td>\n",
       "      <td>27.763</td>\n",
       "      <td>Mehran</td>\n",
       "      <td>617.0</td>\n",
       "      <td>137</td>\n",
       "      <td>1448.705292</td>\n",
       "      <td>40639.57890</td>\n",
       "      <td>poorrange</td>\n",
       "      <td>42.240669</td>\n",
       "      <td>22.899523</td>\n",
       "      <td>EOas-ja</td>\n",
       "      <td>Undivided Asmari and Jahrum Formation , regard...</td>\n",
       "      <td>A-M-VW</td>\n",
       "      <td>Warm and humid, with a humid period longer tha...</td>\n",
       "    </tr>\n",
       "    <tr>\n",
       "      <th>1</th>\n",
       "      <td>52.333</td>\n",
       "      <td>27.772</td>\n",
       "      <td>Mehran</td>\n",
       "      <td>944.0</td>\n",
       "      <td>137</td>\n",
       "      <td>344.299484</td>\n",
       "      <td>40135.02913</td>\n",
       "      <td>mix(woodland_x)</td>\n",
       "      <td>68.219116</td>\n",
       "      <td>34.301464</td>\n",
       "      <td>KEpd-gu</td>\n",
       "      <td>Keewatin Epedotic quartz diorite</td>\n",
       "      <td>A-M-VW</td>\n",
       "      <td>Warm and humid, with a humid period longer tha...</td>\n",
       "    </tr>\n",
       "    <tr>\n",
       "      <th>2</th>\n",
       "      <td>52.326</td>\n",
       "      <td>27.763</td>\n",
       "      <td>Mehran</td>\n",
       "      <td>617.0</td>\n",
       "      <td>137</td>\n",
       "      <td>1448.705292</td>\n",
       "      <td>40639.57890</td>\n",
       "      <td>poorrange</td>\n",
       "      <td>42.240669</td>\n",
       "      <td>22.899523</td>\n",
       "      <td>EOas-ja</td>\n",
       "      <td>Undivided Asmari and Jahrum Formation , regard...</td>\n",
       "      <td>A-M-VW</td>\n",
       "      <td>Warm and humid, with a humid period longer tha...</td>\n",
       "    </tr>\n",
       "    <tr>\n",
       "      <th>3</th>\n",
       "      <td>52.333</td>\n",
       "      <td>27.694</td>\n",
       "      <td>Mehran</td>\n",
       "      <td>55.0</td>\n",
       "      <td>137</td>\n",
       "      <td>1889.828623</td>\n",
       "      <td>42189.54442</td>\n",
       "      <td>rock</td>\n",
       "      <td>12.141766</td>\n",
       "      <td>6.922833</td>\n",
       "      <td>Mlmmi</td>\n",
       "      <td>Low weathering grey marls alternating with ba...</td>\n",
       "      <td>A-M-VW</td>\n",
       "      <td>Warm and humid, with a humid period longer tha...</td>\n",
       "    </tr>\n",
       "    <tr>\n",
       "      <th>4</th>\n",
       "      <td>52.324</td>\n",
       "      <td>27.682</td>\n",
       "      <td>Mehran</td>\n",
       "      <td>20.0</td>\n",
       "      <td>137</td>\n",
       "      <td>874.201691</td>\n",
       "      <td>43010.08400</td>\n",
       "      <td>poorrange</td>\n",
       "      <td>2.216230</td>\n",
       "      <td>1.269598</td>\n",
       "      <td>MuPlaj</td>\n",
       "      <td>Brown to grey , calcareous , feature - formin...</td>\n",
       "      <td>A-M-VW</td>\n",
       "      <td>Warm and humid, with a humid period longer tha...</td>\n",
       "    </tr>\n",
       "  </tbody>\n",
       "</table>\n",
       "</div>"
      ],
      "text/plain": [
       "     LONG     LAT SUB_Basin  Elevation  AAP(mm)  RiverDIST(m)  FaultDIST(m)  \\\n",
       "0  52.326  27.763    Mehran      617.0      137   1448.705292   40639.57890   \n",
       "1  52.333  27.772    Mehran      944.0      137    344.299484   40135.02913   \n",
       "2  52.326  27.763    Mehran      617.0      137   1448.705292   40639.57890   \n",
       "3  52.333  27.694    Mehran       55.0      137   1889.828623   42189.54442   \n",
       "4  52.324  27.682    Mehran       20.0      137    874.201691   43010.08400   \n",
       "\n",
       "      Landuse_Type  Slop(Percent)  Slop(Degrees) GEO_UNIT  \\\n",
       "0        poorrange      42.240669      22.899523  EOas-ja   \n",
       "1  mix(woodland_x)      68.219116      34.301464  KEpd-gu   \n",
       "2        poorrange      42.240669      22.899523  EOas-ja   \n",
       "3             rock      12.141766       6.922833    Mlmmi   \n",
       "4        poorrange       2.216230       1.269598   MuPlaj   \n",
       "\n",
       "                                          DES_GEOUNI Climate_Type  \\\n",
       "0  Undivided Asmari and Jahrum Formation , regard...       A-M-VW   \n",
       "1                   Keewatin Epedotic quartz diorite       A-M-VW   \n",
       "2  Undivided Asmari and Jahrum Formation , regard...       A-M-VW   \n",
       "3   Low weathering grey marls alternating with ba...       A-M-VW   \n",
       "4   Brown to grey , calcareous , feature - formin...       A-M-VW   \n",
       "\n",
       "                                     DES_ClimateType  \n",
       "0  Warm and humid, with a humid period longer tha...  \n",
       "1  Warm and humid, with a humid period longer tha...  \n",
       "2  Warm and humid, with a humid period longer tha...  \n",
       "3  Warm and humid, with a humid period longer tha...  \n",
       "4  Warm and humid, with a humid period longer tha...  "
      ]
     },
     "execution_count": 24,
     "metadata": {},
     "output_type": "execute_result"
    }
   ],
   "source": [
    "# Removing the column ID, as it just repeats the index\n",
    "landslide.drop('ID',axis= 1 ,inplace= True)\n",
    "landslide.head()"
   ]
  },
  {
   "cell_type": "markdown",
   "metadata": {
    "id": "k65ugQ6cqVkq"
   },
   "source": [
    "### Checking the text columns:\n"
   ]
  },
  {
   "cell_type": "markdown",
   "metadata": {
    "id": "fHem7PFktiBT"
   },
   "source": [
    "The text data we are working with is related to locations `SUB_Basin`, types of land use `Landuse_Type` and the geology and climate of the area. This text data is short, and often just one word. With this in mind, I first check `SUB_Basin`'s unique values, to make sure they are consistent."
   ]
  },
  {
   "cell_type": "markdown",
   "metadata": {
    "id": "P0aJTnv0tnNl"
   },
   "source": [
    "#### Checking SUB_Basin:"
   ]
  },
  {
   "cell_type": "code",
   "execution_count": 25,
   "metadata": {
    "id": "z3bv7sBPqVkr",
    "outputId": "ca7611ca-2d23-42ac-ed69-7f5462ad3d46"
   },
   "outputs": [
    {
     "data": {
      "text/plain": [
       "array(['Mehran', 'Mand', 'Shoor', 'Rudan', 'Iran Southern Coast',\n",
       "       'Jaghin', 'Halil Rud', 'Rakshan', 'Dalaki', 'Qarabaq', 'Zohreh',\n",
       "       'Neyriz Lake', 'Namakzar-e Shahdad', 'Shur Ab', 'Bampur', 'Karun',\n",
       "       'Zal', 'Marun', 'Kor', 'Zayandeh Rud', 'Shadkam', 'Gamasb',\n",
       "       'Nahr at Tib', 'Karkheh', 'Dez', 'Dasht-e Kavir', 'Upper Hari Rod',\n",
       "       'Nahrawan Canal', 'Diyala', 'Masileh', 'Kavir-o Namak',\n",
       "       'Simineh Rud', 'Lesser Zab', 'Safid Rud', 'Zarineh Rud', 'Shur',\n",
       "       'Qezel Owzan', 'Se Hezar', 'Chalus', 'Talar', 'Babol', 'Jajrood',\n",
       "       'Haraz', 'Hableh Rud', 'Karaj', 'Qarasu', 'Neka', 'Tajan',\n",
       "       'Haj Ali Gholi Salt Lake', 'Tedzhen', 'Nakhchivan Reservoir',\n",
       "       'Lake Orumieh', 'Talkheh Rud', 'Karasu', 'Safid Rud Delta',\n",
       "       'Vilascay / Lankaran / Tangarud', ' ', 'Gorgan', 'Rud-e Atrak',\n",
       "       'Atrak Delta', 'Kara-Kum Desert', 'Sumbar', 'Ararat', 'Aras 2',\n",
       "       'Lenkeran'], dtype=object)"
      ]
     },
     "execution_count": 25,
     "metadata": {},
     "output_type": "execute_result"
    }
   ],
   "source": [
    "landslide['SUB_Basin'].unique()"
   ]
  },
  {
   "cell_type": "markdown",
   "metadata": {
    "id": "nqwiffMwqVkr"
   },
   "source": [
    "From this we gather:\n",
    "- The unique terms follow the same style, they are capitalised and terms are seperated by a space.\n",
    "- One of the values is ' ', which would indicate the landslide point is not associated with a river basin. We investigate this further in the code block below.\n",
    "- One of the values is 'Aras 2'. A quick Google search reveals that the Aras-2 is a military vehicle. Aras is also a river in the Caucasus. There is no mention of a 'Aras 1', will replace with 'Aras'."
   ]
  },
  {
   "cell_type": "code",
   "execution_count": 26,
   "metadata": {
    "id": "XArbGC2EqVkr",
    "outputId": "933eebf0-a4a9-4935-8f21-162bf8e0a664"
   },
   "outputs": [
    {
     "data": {
      "text/html": [
       "<div>\n",
       "<style scoped>\n",
       "    .dataframe tbody tr th:only-of-type {\n",
       "        vertical-align: middle;\n",
       "    }\n",
       "\n",
       "    .dataframe tbody tr th {\n",
       "        vertical-align: top;\n",
       "    }\n",
       "\n",
       "    .dataframe thead th {\n",
       "        text-align: right;\n",
       "    }\n",
       "</style>\n",
       "<table border=\"1\" class=\"dataframe\">\n",
       "  <thead>\n",
       "    <tr style=\"text-align: right;\">\n",
       "      <th></th>\n",
       "      <th>LONG</th>\n",
       "      <th>LAT</th>\n",
       "      <th>SUB_Basin</th>\n",
       "      <th>Elevation</th>\n",
       "      <th>AAP(mm)</th>\n",
       "      <th>RiverDIST(m)</th>\n",
       "      <th>FaultDIST(m)</th>\n",
       "      <th>Landuse_Type</th>\n",
       "      <th>Slop(Percent)</th>\n",
       "      <th>Slop(Degrees)</th>\n",
       "      <th>GEO_UNIT</th>\n",
       "      <th>DES_GEOUNI</th>\n",
       "      <th>Climate_Type</th>\n",
       "      <th>DES_ClimateType</th>\n",
       "    </tr>\n",
       "  </thead>\n",
       "  <tbody>\n",
       "    <tr>\n",
       "      <th>3551</th>\n",
       "      <td>50.458</td>\n",
       "      <td>37.264</td>\n",
       "      <td></td>\n",
       "      <td>0.0</td>\n",
       "      <td>825</td>\n",
       "      <td>17401.6644</td>\n",
       "      <td>29964.55476</td>\n",
       "      <td></td>\n",
       "      <td>0.0</td>\n",
       "      <td>0.0</td>\n",
       "      <td></td>\n",
       "      <td></td>\n",
       "      <td></td>\n",
       "      <td></td>\n",
       "    </tr>\n",
       "  </tbody>\n",
       "</table>\n",
       "</div>"
      ],
      "text/plain": [
       "        LONG     LAT SUB_Basin  Elevation  AAP(mm)  RiverDIST(m)  \\\n",
       "3551  50.458  37.264                  0.0      825    17401.6644   \n",
       "\n",
       "      FaultDIST(m) Landuse_Type  Slop(Percent)  Slop(Degrees) GEO_UNIT  \\\n",
       "3551   29964.55476                         0.0            0.0            \n",
       "\n",
       "     DES_GEOUNI Climate_Type DES_ClimateType  \n",
       "3551                                          "
      ]
     },
     "execution_count": 26,
     "metadata": {},
     "output_type": "execute_result"
    }
   ],
   "source": [
    "# Checking where SUB_Basin is empty\n",
    "landslide[landslide['SUB_Basin'] == ' ']"
   ]
  },
  {
   "cell_type": "markdown",
   "metadata": {
    "id": "ue6jKusVqVkr"
   },
   "source": [
    "The above row is the only row whose text columns are empty. We remove this row."
   ]
  },
  {
   "cell_type": "code",
   "execution_count": 27,
   "metadata": {
    "id": "WUuqV5W1qVkr"
   },
   "outputs": [],
   "source": [
    "# Remove row mentioned above\n",
    "landslide.drop(index= 3551, inplace= True)"
   ]
  },
  {
   "cell_type": "code",
   "execution_count": 28,
   "metadata": {
    "id": "tTqPNp3vqVkr"
   },
   "outputs": [],
   "source": [
    "# Replacing Aras 2 with Aras\n",
    "landslide.replace(to_replace= 'Aras 2', value= 'Aras', inplace= True)"
   ]
  },
  {
   "cell_type": "code",
   "execution_count": 29,
   "metadata": {
    "id": "glx0hv1RqVkr",
    "outputId": "351df476-4605-4136-e76b-d23802379a0c"
   },
   "outputs": [
    {
     "data": {
      "text/plain": [
       "array(['Mehran', 'Mand', 'Shoor', 'Rudan', 'Iran Southern Coast',\n",
       "       'Jaghin', 'Halil Rud', 'Rakshan', 'Dalaki', 'Qarabaq', 'Zohreh',\n",
       "       'Neyriz Lake', 'Namakzar-e Shahdad', 'Shur Ab', 'Bampur', 'Karun',\n",
       "       'Zal', 'Marun', 'Kor', 'Zayandeh Rud', 'Shadkam', 'Gamasb',\n",
       "       'Nahr at Tib', 'Karkheh', 'Dez', 'Dasht-e Kavir', 'Upper Hari Rod',\n",
       "       'Nahrawan Canal', 'Diyala', 'Masileh', 'Kavir-o Namak',\n",
       "       'Simineh Rud', 'Lesser Zab', 'Safid Rud', 'Zarineh Rud', 'Shur',\n",
       "       'Qezel Owzan', 'Se Hezar', 'Chalus', 'Talar', 'Babol', 'Jajrood',\n",
       "       'Haraz', 'Hableh Rud', 'Karaj', 'Qarasu', 'Neka', 'Tajan',\n",
       "       'Haj Ali Gholi Salt Lake', 'Tedzhen', 'Nakhchivan Reservoir',\n",
       "       'Lake Orumieh', 'Talkheh Rud', 'Karasu', 'Safid Rud Delta',\n",
       "       'Vilascay / Lankaran / Tangarud', 'Gorgan', 'Rud-e Atrak',\n",
       "       'Atrak Delta', 'Kara-Kum Desert', 'Sumbar', 'Ararat', 'Aras',\n",
       "       'Lenkeran'], dtype=object)"
      ]
     },
     "execution_count": 29,
     "metadata": {},
     "output_type": "execute_result"
    }
   ],
   "source": [
    "# Check that two changes worked\n",
    "landslide['SUB_Basin'].unique()"
   ]
  },
  {
   "cell_type": "markdown",
   "metadata": {
    "id": "XTZsAwIkuiS5"
   },
   "source": [
    "#### Check Landuse_Type:"
   ]
  },
  {
   "cell_type": "code",
   "execution_count": 30,
   "metadata": {
    "id": "H_lY9GAcqVks",
    "outputId": "2525763d-d448-47af-853c-2ea4952b805b"
   },
   "outputs": [
    {
     "data": {
      "text/plain": [
       "array(['poorrange', 'mix(woodland_x)', 'rock', 'mix(agri_follow)',\n",
       "       'mix(bareland_x)', 'verylowforest', 'lowforest', 'woodland1',\n",
       "       'bareland', 'modrange', 'mix(poorrange_x)', 'mix(lowforest_x)',\n",
       "       'agri', 'masil', 'modforest', 'mix(modforest_x)',\n",
       "       'mix(dryfarming_x)', 'mix(modrange_x)', 'mix(agri_X)',\n",
       "       'bagh/grazing area', 'goodrange', 'woodland2', 'urban',\n",
       "       'mix(bagh_X)', 'mix(agri_dryfarming)', 'denseforest',\n",
       "       'mix(agri_bagh)', 'dryfarming', 'follow', 'mix(goodrang_x)',\n",
       "       'mix(follow_x)', 'saltland', 'mix(verylowforest_x)', 'wetland1',\n",
       "       'water', ' ', 'mix(denseforest_x)'], dtype=object)"
      ]
     },
     "execution_count": 30,
     "metadata": {},
     "output_type": "execute_result"
    }
   ],
   "source": [
    "# Check other text data:\n",
    "landslide['Landuse_Type'].unique()"
   ]
  },
  {
   "cell_type": "markdown",
   "metadata": {
    "id": "poi0cZbrqVks"
   },
   "source": [
    "Looking at unique values for the `Landuse_Type` we gather:\n",
    "- There are also empty values present, as with the `SUB_Basin` column\n",
    "- The formatting is all lowercase, with no spaces present between words.\n",
    "- The term mix(woodland_x) is assumed to indicated a mixed use area. This is difficult to interpret. Will remove the '_x', as the 'mix()' already indicates mix use. I assume the 'x' refers to the secondary land use that is not included in the dataset.\n",
    "- mix(bagh_X) and mix(agri_X) contains capital X, does not follow formatting of other values. Will remove _X\n",
    "- 'bagh/grazing area' does not follow formatting convention as well, will replace with 'mix(bagh_grazing)'"
   ]
  },
  {
   "cell_type": "code",
   "execution_count": 31,
   "metadata": {
    "id": "bF43_vNiqVks",
    "outputId": "d6504b3a-14d4-4987-f1d2-bfddf73ca1e6"
   },
   "outputs": [
    {
     "data": {
      "text/html": [
       "<div>\n",
       "<style scoped>\n",
       "    .dataframe tbody tr th:only-of-type {\n",
       "        vertical-align: middle;\n",
       "    }\n",
       "\n",
       "    .dataframe tbody tr th {\n",
       "        vertical-align: top;\n",
       "    }\n",
       "\n",
       "    .dataframe thead th {\n",
       "        text-align: right;\n",
       "    }\n",
       "</style>\n",
       "<table border=\"1\" class=\"dataframe\">\n",
       "  <thead>\n",
       "    <tr style=\"text-align: right;\">\n",
       "      <th></th>\n",
       "      <th>LONG</th>\n",
       "      <th>LAT</th>\n",
       "      <th>SUB_Basin</th>\n",
       "      <th>Elevation</th>\n",
       "      <th>AAP(mm)</th>\n",
       "      <th>RiverDIST(m)</th>\n",
       "      <th>FaultDIST(m)</th>\n",
       "      <th>Landuse_Type</th>\n",
       "      <th>Slop(Percent)</th>\n",
       "      <th>Slop(Degrees)</th>\n",
       "      <th>GEO_UNIT</th>\n",
       "      <th>DES_GEOUNI</th>\n",
       "      <th>Climate_Type</th>\n",
       "      <th>DES_ClimateType</th>\n",
       "    </tr>\n",
       "  </thead>\n",
       "  <tbody>\n",
       "    <tr>\n",
       "      <th>3486</th>\n",
       "      <td>48.660</td>\n",
       "      <td>38.392</td>\n",
       "      <td>Vilascay / Lankaran / Tangarud</td>\n",
       "      <td>290.0</td>\n",
       "      <td>779</td>\n",
       "      <td>14.452563</td>\n",
       "      <td>3698.394077</td>\n",
       "      <td></td>\n",
       "      <td>5.070903</td>\n",
       "      <td>2.902927</td>\n",
       "      <td>PlQc</td>\n",
       "      <td>Fluvial conglomerate</td>\n",
       "      <td>PH-C-W</td>\n",
       "      <td>Warm and dry, with a dry period longer than th...</td>\n",
       "    </tr>\n",
       "    <tr>\n",
       "      <th>3913</th>\n",
       "      <td>55.143</td>\n",
       "      <td>37.951</td>\n",
       "      <td>Atrak Delta</td>\n",
       "      <td>62.0</td>\n",
       "      <td>134</td>\n",
       "      <td>45.078001</td>\n",
       "      <td>10598.602870</td>\n",
       "      <td></td>\n",
       "      <td>4.674369</td>\n",
       "      <td>2.676268</td>\n",
       "      <td></td>\n",
       "      <td></td>\n",
       "      <td>A-C-W</td>\n",
       "      <td>Hot and dry, with a dry period longer than the...</td>\n",
       "    </tr>\n",
       "    <tr>\n",
       "      <th>3975</th>\n",
       "      <td>54.700</td>\n",
       "      <td>37.641</td>\n",
       "      <td>Atrak Delta</td>\n",
       "      <td>4.0</td>\n",
       "      <td>133</td>\n",
       "      <td>7297.298469</td>\n",
       "      <td>25151.376910</td>\n",
       "      <td></td>\n",
       "      <td>0.380080</td>\n",
       "      <td>0.217769</td>\n",
       "      <td></td>\n",
       "      <td></td>\n",
       "      <td></td>\n",
       "      <td></td>\n",
       "    </tr>\n",
       "  </tbody>\n",
       "</table>\n",
       "</div>"
      ],
      "text/plain": [
       "        LONG     LAT                       SUB_Basin  Elevation  AAP(mm)  \\\n",
       "3486  48.660  38.392  Vilascay / Lankaran / Tangarud      290.0      779   \n",
       "3913  55.143  37.951                     Atrak Delta       62.0      134   \n",
       "3975  54.700  37.641                     Atrak Delta        4.0      133   \n",
       "\n",
       "      RiverDIST(m)  FaultDIST(m) Landuse_Type  Slop(Percent)  Slop(Degrees)  \\\n",
       "3486     14.452563   3698.394077                    5.070903       2.902927   \n",
       "3913     45.078001  10598.602870                    4.674369       2.676268   \n",
       "3975   7297.298469  25151.376910                    0.380080       0.217769   \n",
       "\n",
       "     GEO_UNIT            DES_GEOUNI Climate_Type  \\\n",
       "3486     PlQc  Fluvial conglomerate       PH-C-W   \n",
       "3913                                       A-C-W   \n",
       "3975                                               \n",
       "\n",
       "                                        DES_ClimateType  \n",
       "3486  Warm and dry, with a dry period longer than th...  \n",
       "3913  Hot and dry, with a dry period longer than the...  \n",
       "3975                                                     "
      ]
     },
     "execution_count": 31,
     "metadata": {},
     "output_type": "execute_result"
    }
   ],
   "source": [
    "# Check empty values\n",
    "landslide[landslide['Landuse_Type'] == ' ']"
   ]
  },
  {
   "cell_type": "markdown",
   "metadata": {
    "id": "U5ZnokTxqVks"
   },
   "source": [
    "Something to consider for future projects:\n",
    "\n",
    "Find closest longitude and latitude points, and replace empty values according to the closest landslide point.\n",
    "\n",
    "For the purpose of this project, we just remove these values."
   ]
  },
  {
   "cell_type": "code",
   "execution_count": 32,
   "metadata": {
    "id": "uHAYY2GrqVks"
   },
   "outputs": [],
   "source": [
    "# Removerow mentioned above\n",
    "landslide.drop(index= [3913, 3975, 3486], inplace= True)"
   ]
  },
  {
   "cell_type": "code",
   "execution_count": 33,
   "metadata": {},
   "outputs": [],
   "source": [
    "# Update columns so that woodland1 and woodland2 are now woodland:\n",
    "landslide['Landuse_Type'].replace(to_replace= 'woodland1', value= 'woodland', inplace= True)\n",
    "landslide['Landuse_Type'].replace(to_replace= 'woodland2', value= 'woodland', inplace= True)\n",
    "# Update columns so that wetland1 is now wetland:\n",
    "landslide['Landuse_Type'].replace(to_replace= 'wetland1', value= 'wetland', inplace= True)"
   ]
  },
  {
   "cell_type": "markdown",
   "metadata": {},
   "source": [
    "Some of the values are too specific, and doesn't add any new information to the data. For the sake of meaningful and clear categories, we create a new column, `Landuse_Category`, with the following values changed:\n",
    "- Any values that is a mix, but just the first land use is mentioned.\n",
    "    - examples: mix(woodland_x), mix(bareland_x)\n",
    "    - change to: woodland, bareland\n",
    "- verylowforest, lowforest, modforest, denseforest to just \"forest\"\n",
    "- modrange, poorrange, goodrange to variousrange\n",
    "- dryfarming, mix(agri_bagh), etc. to just \"agri\""
   ]
  },
  {
   "cell_type": "code",
   "execution_count": 34,
   "metadata": {},
   "outputs": [
    {
     "data": {
      "text/html": [
       "<div>\n",
       "<style scoped>\n",
       "    .dataframe tbody tr th:only-of-type {\n",
       "        vertical-align: middle;\n",
       "    }\n",
       "\n",
       "    .dataframe tbody tr th {\n",
       "        vertical-align: top;\n",
       "    }\n",
       "\n",
       "    .dataframe thead th {\n",
       "        text-align: right;\n",
       "    }\n",
       "</style>\n",
       "<table border=\"1\" class=\"dataframe\">\n",
       "  <thead>\n",
       "    <tr style=\"text-align: right;\">\n",
       "      <th></th>\n",
       "      <th>LONG</th>\n",
       "      <th>LAT</th>\n",
       "      <th>SUB_Basin</th>\n",
       "      <th>Elevation</th>\n",
       "      <th>AAP(mm)</th>\n",
       "      <th>RiverDIST(m)</th>\n",
       "      <th>FaultDIST(m)</th>\n",
       "      <th>Landuse_Type</th>\n",
       "      <th>Slop(Percent)</th>\n",
       "      <th>Slop(Degrees)</th>\n",
       "      <th>GEO_UNIT</th>\n",
       "      <th>DES_GEOUNI</th>\n",
       "      <th>Climate_Type</th>\n",
       "      <th>DES_ClimateType</th>\n",
       "      <th>Landuse_Category</th>\n",
       "    </tr>\n",
       "  </thead>\n",
       "  <tbody>\n",
       "    <tr>\n",
       "      <th>0</th>\n",
       "      <td>52.326</td>\n",
       "      <td>27.763</td>\n",
       "      <td>Mehran</td>\n",
       "      <td>617.0</td>\n",
       "      <td>137</td>\n",
       "      <td>1448.705292</td>\n",
       "      <td>40639.57890</td>\n",
       "      <td>poorrange</td>\n",
       "      <td>42.240669</td>\n",
       "      <td>22.899523</td>\n",
       "      <td>EOas-ja</td>\n",
       "      <td>Undivided Asmari and Jahrum Formation , regard...</td>\n",
       "      <td>A-M-VW</td>\n",
       "      <td>Warm and humid, with a humid period longer tha...</td>\n",
       "      <td>poorrange</td>\n",
       "    </tr>\n",
       "    <tr>\n",
       "      <th>1</th>\n",
       "      <td>52.333</td>\n",
       "      <td>27.772</td>\n",
       "      <td>Mehran</td>\n",
       "      <td>944.0</td>\n",
       "      <td>137</td>\n",
       "      <td>344.299484</td>\n",
       "      <td>40135.02913</td>\n",
       "      <td>mix(woodland_x)</td>\n",
       "      <td>68.219116</td>\n",
       "      <td>34.301464</td>\n",
       "      <td>KEpd-gu</td>\n",
       "      <td>Keewatin Epedotic quartz diorite</td>\n",
       "      <td>A-M-VW</td>\n",
       "      <td>Warm and humid, with a humid period longer tha...</td>\n",
       "      <td>mix(woodland_x)</td>\n",
       "    </tr>\n",
       "  </tbody>\n",
       "</table>\n",
       "</div>"
      ],
      "text/plain": [
       "     LONG     LAT SUB_Basin  Elevation  AAP(mm)  RiverDIST(m)  FaultDIST(m)  \\\n",
       "0  52.326  27.763    Mehran      617.0      137   1448.705292   40639.57890   \n",
       "1  52.333  27.772    Mehran      944.0      137    344.299484   40135.02913   \n",
       "\n",
       "      Landuse_Type  Slop(Percent)  Slop(Degrees) GEO_UNIT  \\\n",
       "0        poorrange      42.240669      22.899523  EOas-ja   \n",
       "1  mix(woodland_x)      68.219116      34.301464  KEpd-gu   \n",
       "\n",
       "                                          DES_GEOUNI Climate_Type  \\\n",
       "0  Undivided Asmari and Jahrum Formation , regard...       A-M-VW   \n",
       "1                   Keewatin Epedotic quartz diorite       A-M-VW   \n",
       "\n",
       "                                     DES_ClimateType Landuse_Category  \n",
       "0  Warm and humid, with a humid period longer tha...        poorrange  \n",
       "1  Warm and humid, with a humid period longer tha...  mix(woodland_x)  "
      ]
     },
     "execution_count": 34,
     "metadata": {},
     "output_type": "execute_result"
    }
   ],
   "source": [
    "landslide['Landuse_Category'] = landslide['Landuse_Type']\n",
    "landslide.head(2)"
   ]
  },
  {
   "cell_type": "code",
   "execution_count": 35,
   "metadata": {},
   "outputs": [],
   "source": [
    "# Replace bagh/grazing area and dryfarming with \"agri\"\n",
    "landslide['Landuse_Category'].replace(to_replace= 'bagh/grazing area', value= 'agri', inplace= True)\n",
    "landslide['Landuse_Category'].replace(to_replace= 'dryfarming', value= 'agri', inplace= True)\n",
    "\n",
    "# Replace _forest with \"forest\"\n",
    "landslide['Landuse_Category'].replace(to_replace= 'verylowforest', value= 'forest', inplace= True)\n",
    "landslide['Landuse_Category'].replace(to_replace= 'lowforest', value= 'forest', inplace= True)\n",
    "landslide['Landuse_Category'].replace(to_replace= 'modforest', value= 'forest', inplace= True)\n",
    "landslide['Landuse_Category'].replace(to_replace= 'denseforest', value= 'forest', inplace= True)\n",
    "\n",
    "# Replace _range with \"variousrange\"\n",
    "landslide['Landuse_Category'].replace(to_replace= 'goodrange', value= 'variousrange', inplace= True)\n",
    "landslide['Landuse_Category'].replace(to_replace= 'modrange', value= 'variousrange', inplace= True)\n",
    "landslide['Landuse_Category'].replace(to_replace= 'poorrange', value= 'variousrange', inplace= True)\n",
    "\n",
    "# Replace values with mix(_x)\n",
    "landslide['Landuse_Category'].replace(to_replace= 'mix(agri_follow)', value= 'agri', inplace= True)\n",
    "landslide['Landuse_Category'].replace(to_replace= 'mix(denseforest_x)', value= 'forest', inplace= True)\n",
    "landslide['Landuse_Category'].replace(to_replace= 'mix(verylowforest_x)', value= 'forest', inplace= True)\n",
    "landslide['Landuse_Category'].replace(to_replace= 'mix(follow_x)', value= 'follow', inplace= True)\n",
    "landslide['Landuse_Category'].replace(to_replace= 'mix(goodrang_x)', value= 'variousrange', inplace= True)\n",
    "landslide['Landuse_Category'].replace(to_replace= 'mix(agri_bagh)', value= 'agri', inplace= True)\n",
    "landslide['Landuse_Category'].replace(to_replace= 'mix(agri_dryfarming)', value= 'agri', inplace= True)\n",
    "landslide['Landuse_Category'].replace(to_replace= 'mix(bagh_X)', value= 'bagh', inplace= True)\n",
    "landslide['Landuse_Category'].replace(to_replace= 'mix(agri_X)', value= 'agri', inplace= True)\n",
    "landslide['Landuse_Category'].replace(to_replace= 'mix(modrange_x)', value= 'variousrange', inplace= True)\n",
    "landslide['Landuse_Category'].replace(to_replace= 'mix(dryfarming_x)', value= 'agri', inplace= True)\n",
    "landslide['Landuse_Category'].replace(to_replace= 'mix(modforest_x)', value= 'forest', inplace= True)\n",
    "landslide['Landuse_Category'].replace(to_replace= 'mix(lowforest_x)', value= 'forest', inplace= True)\n",
    "landslide['Landuse_Category'].replace(to_replace= 'mix(poorrange_x)', value= 'variousrange', inplace= True)\n",
    "landslide['Landuse_Category'].replace(to_replace= 'mix(woodland_x)', value= 'woodland', inplace= True)\n",
    "landslide['Landuse_Category'].replace(to_replace= 'mix(bareland_x)', value= 'bareland', inplace= True)"
   ]
  },
  {
   "cell_type": "markdown",
   "metadata": {
    "id": "KpFn2umKqVkx"
   },
   "source": [
    "#### Check GEO_UNIT"
   ]
  },
  {
   "cell_type": "code",
   "execution_count": 36,
   "metadata": {
    "id": "TTHetLwrqVkx",
    "outputId": "142ab3c8-c2c9-4da9-ef36-80db828bebd4"
   },
   "outputs": [
    {
     "data": {
      "text/plain": [
       "array(['EOas-ja', 'KEpd-gu', 'Mlmmi', 'MuPlaj', 'OMr', 'Plbk', 'Qft2',\n",
       "       'Mlgs', 'Ek', 'tm', 'Qft1', 'Pzkb', 'Eja', 'OMf', 'ElPE-Eh',\n",
       "       'PlQc', 'TRKurl', 'Ktb', 'OMgr', 'Mur', 'Eabvt', 'E2m', 'pgr',\n",
       "       'Edv', 'E2s', 'Edavt', 'Edsv', 'Eav', 'Murc', 'K1c', 'Plav', 'sr',\n",
       "       'PLgr', 'Qabvs', 'Kbgp', 'PeEpd', 'OMas', 'Kgu', 'JKkgp', 'Klsol',\n",
       "       'KPeam', 'Pec', 'Qtr', 'Jugn', 'OMrb', 'Ktl', 'Pj', 'K1l',\n",
       "       'EOa-bv', 'Eavt', 'Jh', 'TRsh', 'TRJs', 'Qsf', 'Czl', 'EMas-sb',\n",
       "       'Ekn', 'MPlfgp', 'KEpd-g', 'E', 'Cm', 'TRkk-nz', 'JKbl', 'Egr',\n",
       "       'pCk', 'TRn', 'pC-Cs', 'Edt', 'Jel', 'pCrr', 'Dp', 'Cz', 'pCr',\n",
       "       'Qcf', 'pCmt2', 'PeEf', 'Pld.asv', 'Kus', 'sp', 'pd', 'OMa.bv',\n",
       "       'OMql', 'Kussh', 'Ebv', 'Ogb', 'KPef', 'KPegr-di', 'TRJvm', 'h',\n",
       "       'Jph', 'K1bl', 'Pda', 'K1a.bv', 'OMq', 'Ea.bvt', 'MPa.bvt',\n",
       "       'Odi-gb', 'PLd.av', 'OMml', 'E2f', 'Kgr', 'Olm,s,c', 'COm', 'Judi',\n",
       "       'Murm', 'K2m,1', 'OMat', 'OMd.av', 'Ktzl', 'TRjs', 'Qm', 'Pd',\n",
       "       'pCmt1', 'Klsm', 'Kfsh', 'Ku', 'Plms', 'pCgr', 'Olc,s', 'TRKubl',\n",
       "       'Pel', 'Kupl', 'Jugr', 'E1f', 'mb', 'Cl', 'Eksh', 'Mm,s,l', 'OMav',\n",
       "       'Pgkc', 'gb', 'Pr', 'Jl', 'Edvs', 'Edvt', 'Ekgy', 'Kbvt', 'TRe',\n",
       "       'Ea.bvs', 'E1c', 'Ed.av', 'Odi', 'Kbv', 'Plc', 'K2l2', 'pC-C', 'P',\n",
       "       'EOsa', 'Qabv', 'Jd', 'Mc', 'K2l1', 'Olcs', 'DCkh', 'TRe1', 'E1m',\n",
       "       'Cb', 'Jk', 'Pz', 'EOgy', 'Db.sh', 'PeEm', 'Murmg', 'Qs,d', 'E2c',\n",
       "       'Jmz', 'E3m', 'Db', 'PeEck', 'Qbv', 'om1', 'Kuft', 'Pld.avs',\n",
       "       'Plmb1', 'am', 'Qal', 'Ogr-di', 'Ma.bv', 'Knl', 'PZ1a.bv',\n",
       "       'Pz2mt2', 'Jsh.ls', 'Md.av', 'PAgr-di', 'Qvc', 'K1-2lm', 'KPAavs',\n",
       "       ' ', 'K2c', 'Jsc', 'E3c', 'K2sh,m', 'K', 'Ksn', 'Jch', 'Qsw', 'Kl',\n",
       "       'Dkh', 'Ksr', 'Ktr', 'JKsj', 'Peps', 'Kad', 'Kat', 'Kk', 'Kab',\n",
       "       'Knz', 'Ekh', 'di-gb', 'OMz3', 'OMc', 'E2-3f', 'Qa.bv', 'OMz1',\n",
       "       'Mms', 'PAEav', 'OMz2'], dtype=object)"
      ]
     },
     "execution_count": 36,
     "metadata": {},
     "output_type": "execute_result"
    }
   ],
   "source": [
    "landslide['GEO_UNIT'].unique()"
   ]
  },
  {
   "cell_type": "markdown",
   "metadata": {
    "id": "6XzIsJ5KqVkx"
   },
   "source": [
    "This column presents the geology features present in a landslide point. Attempting to decode this without the accompaning `DES_GEOUNI` is futile. With this in mind, I decided not to remove either of the two columns. `DES_GEOUNI` helps us to understand the geology features, and `GEO_UNIT` is easier to perform calculations on.\n",
    "\n",
    "Features of interest:\n",
    "- The formatting is not immediately apparent, as there is a combination of capital and lowercase letters. Numbers are also present.\n",
    "- Due to my limited knowledge in geology, I have elected to leave these codes as is\n",
    "- I will still update the empty fields, either by removing the rows or imputing values."
   ]
  },
  {
   "cell_type": "code",
   "execution_count": 37,
   "metadata": {
    "id": "2oKctXllqVkx",
    "outputId": "c4096efa-2479-4890-bb6f-219b992ec136"
   },
   "outputs": [
    {
     "data": {
      "text/html": [
       "<div>\n",
       "<style scoped>\n",
       "    .dataframe tbody tr th:only-of-type {\n",
       "        vertical-align: middle;\n",
       "    }\n",
       "\n",
       "    .dataframe tbody tr th {\n",
       "        vertical-align: top;\n",
       "    }\n",
       "\n",
       "    .dataframe thead th {\n",
       "        text-align: right;\n",
       "    }\n",
       "</style>\n",
       "<table border=\"1\" class=\"dataframe\">\n",
       "  <thead>\n",
       "    <tr style=\"text-align: right;\">\n",
       "      <th></th>\n",
       "      <th>LONG</th>\n",
       "      <th>LAT</th>\n",
       "      <th>SUB_Basin</th>\n",
       "      <th>Elevation</th>\n",
       "      <th>AAP(mm)</th>\n",
       "      <th>RiverDIST(m)</th>\n",
       "      <th>FaultDIST(m)</th>\n",
       "      <th>Landuse_Type</th>\n",
       "      <th>Slop(Percent)</th>\n",
       "      <th>Slop(Degrees)</th>\n",
       "      <th>GEO_UNIT</th>\n",
       "      <th>DES_GEOUNI</th>\n",
       "      <th>Climate_Type</th>\n",
       "      <th>DES_ClimateType</th>\n",
       "      <th>Landuse_Category</th>\n",
       "    </tr>\n",
       "  </thead>\n",
       "  <tbody>\n",
       "    <tr>\n",
       "      <th>3414</th>\n",
       "      <td>48.595</td>\n",
       "      <td>38.431</td>\n",
       "      <td>Vilascay / Lankaran / Tangarud</td>\n",
       "      <td>1160.0</td>\n",
       "      <td>779</td>\n",
       "      <td>264.940436</td>\n",
       "      <td>3855.000680</td>\n",
       "      <td>denseforest</td>\n",
       "      <td>52.345280</td>\n",
       "      <td>27.629934</td>\n",
       "      <td></td>\n",
       "      <td></td>\n",
       "      <td>SH-K-W</td>\n",
       "      <td>Hot and dry, with a dry period longer than the...</td>\n",
       "      <td>forest</td>\n",
       "    </tr>\n",
       "    <tr>\n",
       "      <th>3415</th>\n",
       "      <td>48.595</td>\n",
       "      <td>38.426</td>\n",
       "      <td>Vilascay / Lankaran / Tangarud</td>\n",
       "      <td>1126.0</td>\n",
       "      <td>779</td>\n",
       "      <td>409.951214</td>\n",
       "      <td>3302.061843</td>\n",
       "      <td>mix(goodrang_x)</td>\n",
       "      <td>38.172058</td>\n",
       "      <td>20.892885</td>\n",
       "      <td></td>\n",
       "      <td></td>\n",
       "      <td>SH-K-W</td>\n",
       "      <td>Hot and dry, with a dry period longer than the...</td>\n",
       "      <td>variousrange</td>\n",
       "    </tr>\n",
       "    <tr>\n",
       "      <th>3417</th>\n",
       "      <td>48.595</td>\n",
       "      <td>38.426</td>\n",
       "      <td>Vilascay / Lankaran / Tangarud</td>\n",
       "      <td>1126.0</td>\n",
       "      <td>779</td>\n",
       "      <td>409.951214</td>\n",
       "      <td>3302.061843</td>\n",
       "      <td>mix(goodrang_x)</td>\n",
       "      <td>38.172058</td>\n",
       "      <td>20.892885</td>\n",
       "      <td></td>\n",
       "      <td></td>\n",
       "      <td>SH-K-W</td>\n",
       "      <td>Hot and dry, with a dry period longer than the...</td>\n",
       "      <td>variousrange</td>\n",
       "    </tr>\n",
       "    <tr>\n",
       "      <th>3418</th>\n",
       "      <td>48.583</td>\n",
       "      <td>38.433</td>\n",
       "      <td>Vilascay / Lankaran / Tangarud</td>\n",
       "      <td>1426.0</td>\n",
       "      <td>779</td>\n",
       "      <td>1289.269294</td>\n",
       "      <td>4166.959218</td>\n",
       "      <td>mix(goodrang_x)</td>\n",
       "      <td>29.620060</td>\n",
       "      <td>16.499321</td>\n",
       "      <td></td>\n",
       "      <td></td>\n",
       "      <td>SH-K-M</td>\n",
       "      <td>Hot and dry, with a dry period longer than the...</td>\n",
       "      <td>variousrange</td>\n",
       "    </tr>\n",
       "    <tr>\n",
       "      <th>3485</th>\n",
       "      <td>48.586</td>\n",
       "      <td>38.426</td>\n",
       "      <td>Vilascay / Lankaran / Tangarud</td>\n",
       "      <td>1269.0</td>\n",
       "      <td>779</td>\n",
       "      <td>1133.395937</td>\n",
       "      <td>3370.142858</td>\n",
       "      <td>mix(goodrang_x)</td>\n",
       "      <td>49.192505</td>\n",
       "      <td>26.193729</td>\n",
       "      <td></td>\n",
       "      <td></td>\n",
       "      <td>SH-K-M</td>\n",
       "      <td>Hot and dry, with a dry period longer than the...</td>\n",
       "      <td>variousrange</td>\n",
       "    </tr>\n",
       "    <tr>\n",
       "      <th>4261</th>\n",
       "      <td>47.020</td>\n",
       "      <td>39.163</td>\n",
       "      <td>Aras</td>\n",
       "      <td>241.0</td>\n",
       "      <td>471</td>\n",
       "      <td>512.715681</td>\n",
       "      <td>9585.855194</td>\n",
       "      <td>mix(agri_bagh)</td>\n",
       "      <td>5.912662</td>\n",
       "      <td>3.383766</td>\n",
       "      <td></td>\n",
       "      <td></td>\n",
       "      <td>SA-C-W</td>\n",
       "      <td>Hot and dry, with a dry period longer than the...</td>\n",
       "      <td>agri</td>\n",
       "    </tr>\n",
       "    <tr>\n",
       "      <th>4287</th>\n",
       "      <td>48.594</td>\n",
       "      <td>38.442</td>\n",
       "      <td>Vilascay / Lankaran / Tangarud</td>\n",
       "      <td>1519.0</td>\n",
       "      <td>779</td>\n",
       "      <td>128.052600</td>\n",
       "      <td>5079.026924</td>\n",
       "      <td>denseforest</td>\n",
       "      <td>65.444481</td>\n",
       "      <td>33.202534</td>\n",
       "      <td></td>\n",
       "      <td></td>\n",
       "      <td></td>\n",
       "      <td></td>\n",
       "      <td>forest</td>\n",
       "    </tr>\n",
       "  </tbody>\n",
       "</table>\n",
       "</div>"
      ],
      "text/plain": [
       "        LONG     LAT                       SUB_Basin  Elevation  AAP(mm)  \\\n",
       "3414  48.595  38.431  Vilascay / Lankaran / Tangarud     1160.0      779   \n",
       "3415  48.595  38.426  Vilascay / Lankaran / Tangarud     1126.0      779   \n",
       "3417  48.595  38.426  Vilascay / Lankaran / Tangarud     1126.0      779   \n",
       "3418  48.583  38.433  Vilascay / Lankaran / Tangarud     1426.0      779   \n",
       "3485  48.586  38.426  Vilascay / Lankaran / Tangarud     1269.0      779   \n",
       "4261  47.020  39.163                            Aras      241.0      471   \n",
       "4287  48.594  38.442  Vilascay / Lankaran / Tangarud     1519.0      779   \n",
       "\n",
       "      RiverDIST(m)  FaultDIST(m)     Landuse_Type  Slop(Percent)  \\\n",
       "3414    264.940436   3855.000680      denseforest      52.345280   \n",
       "3415    409.951214   3302.061843  mix(goodrang_x)      38.172058   \n",
       "3417    409.951214   3302.061843  mix(goodrang_x)      38.172058   \n",
       "3418   1289.269294   4166.959218  mix(goodrang_x)      29.620060   \n",
       "3485   1133.395937   3370.142858  mix(goodrang_x)      49.192505   \n",
       "4261    512.715681   9585.855194   mix(agri_bagh)       5.912662   \n",
       "4287    128.052600   5079.026924      denseforest      65.444481   \n",
       "\n",
       "      Slop(Degrees) GEO_UNIT DES_GEOUNI Climate_Type  \\\n",
       "3414      27.629934                           SH-K-W   \n",
       "3415      20.892885                           SH-K-W   \n",
       "3417      20.892885                           SH-K-W   \n",
       "3418      16.499321                           SH-K-M   \n",
       "3485      26.193729                           SH-K-M   \n",
       "4261       3.383766                           SA-C-W   \n",
       "4287      33.202534                                    \n",
       "\n",
       "                                        DES_ClimateType Landuse_Category  \n",
       "3414  Hot and dry, with a dry period longer than the...           forest  \n",
       "3415  Hot and dry, with a dry period longer than the...     variousrange  \n",
       "3417  Hot and dry, with a dry period longer than the...     variousrange  \n",
       "3418  Hot and dry, with a dry period longer than the...     variousrange  \n",
       "3485  Hot and dry, with a dry period longer than the...     variousrange  \n",
       "4261  Hot and dry, with a dry period longer than the...             agri  \n",
       "4287                                                              forest  "
      ]
     },
     "execution_count": 37,
     "metadata": {},
     "output_type": "execute_result"
    }
   ],
   "source": [
    "landslide[(landslide['GEO_UNIT'] == ' ')]"
   ]
  },
  {
   "cell_type": "markdown",
   "metadata": {
    "id": "6v8LkWyrqVkx"
   },
   "source": [
    "We notice that a majority of the empty fields are related to landslide points near 'Vilascay / Lankaran / Tangarud'. I will check this basin, and see if there is an overarching geology type in the area."
   ]
  },
  {
   "cell_type": "code",
   "execution_count": 38,
   "metadata": {
    "id": "18B6nFZQqVkx",
    "outputId": "83d38bae-2bd2-415e-e864-44d3aa365f53"
   },
   "outputs": [
    {
     "data": {
      "text/plain": [
       "3405    KPAavs\n",
       "3406    KPAavs\n",
       "3414          \n",
       "3415          \n",
       "3417          \n",
       "3418          \n",
       "3471      PlQc\n",
       "3472      PlQc\n",
       "3482       Qtr\n",
       "3483       E1f\n",
       "3484       Eav\n",
       "3485          \n",
       "3487      PlQc\n",
       "3497       Qtr\n",
       "3498    KPAavs\n",
       "3511       Eav\n",
       "3517       K2c\n",
       "3518    KPAavs\n",
       "3520    KPAavs\n",
       "3527    KPAavs\n",
       "3528        Ku\n",
       "3529    KPAavs\n",
       "3533    KPAavs\n",
       "4287          \n",
       "4291       Qtr\n",
       "4294       Qtr\n",
       "Name: GEO_UNIT, dtype: object"
      ]
     },
     "execution_count": 38,
     "metadata": {},
     "output_type": "execute_result"
    }
   ],
   "source": [
    "landslide['GEO_UNIT'][(landslide['SUB_Basin'] == 'Vilascay / Lankaran / Tangarud')]"
   ]
  },
  {
   "cell_type": "markdown",
   "metadata": {
    "id": "fOZizIhSqVky"
   },
   "source": [
    "The type 'KPavs' is the most prevalent, but we cannot replace the empty values with 'KPavs'. There are too many different types of `GEO_UNIT` to be certain. In stead, we remove these values."
   ]
  },
  {
   "cell_type": "code",
   "execution_count": 39,
   "metadata": {
    "id": "R4TXmruxqVky"
   },
   "outputs": [],
   "source": [
    "# remove all empty rows of GEO_UNIT\n",
    "landslide.drop(index= [3414, 3415, 3417, 3418, 3485, 4261, 4287], inplace= True)"
   ]
  },
  {
   "cell_type": "markdown",
   "metadata": {
    "id": "T5AnNvgmqVky"
   },
   "source": [
    "#### Check DES_GEOUNI\n",
    "This column contains longer strings of text. For this column, I will only look into replacing empty values."
   ]
  },
  {
   "cell_type": "code",
   "execution_count": 40,
   "metadata": {
    "id": "PNu2EiiiqVky",
    "outputId": "b266492f-9300-42fe-a21e-3153a1eae5a1"
   },
   "outputs": [
    {
     "data": {
      "text/html": [
       "<div>\n",
       "<style scoped>\n",
       "    .dataframe tbody tr th:only-of-type {\n",
       "        vertical-align: middle;\n",
       "    }\n",
       "\n",
       "    .dataframe tbody tr th {\n",
       "        vertical-align: top;\n",
       "    }\n",
       "\n",
       "    .dataframe thead th {\n",
       "        text-align: right;\n",
       "    }\n",
       "</style>\n",
       "<table border=\"1\" class=\"dataframe\">\n",
       "  <thead>\n",
       "    <tr style=\"text-align: right;\">\n",
       "      <th></th>\n",
       "      <th>LONG</th>\n",
       "      <th>LAT</th>\n",
       "      <th>SUB_Basin</th>\n",
       "      <th>Elevation</th>\n",
       "      <th>AAP(mm)</th>\n",
       "      <th>RiverDIST(m)</th>\n",
       "      <th>FaultDIST(m)</th>\n",
       "      <th>Landuse_Type</th>\n",
       "      <th>Slop(Percent)</th>\n",
       "      <th>Slop(Degrees)</th>\n",
       "      <th>GEO_UNIT</th>\n",
       "      <th>DES_GEOUNI</th>\n",
       "      <th>Climate_Type</th>\n",
       "      <th>DES_ClimateType</th>\n",
       "      <th>Landuse_Category</th>\n",
       "    </tr>\n",
       "  </thead>\n",
       "  <tbody>\n",
       "  </tbody>\n",
       "</table>\n",
       "</div>"
      ],
      "text/plain": [
       "Empty DataFrame\n",
       "Columns: [LONG, LAT, SUB_Basin, Elevation, AAP(mm), RiverDIST(m), FaultDIST(m), Landuse_Type, Slop(Percent), Slop(Degrees), GEO_UNIT, DES_GEOUNI, Climate_Type, DES_ClimateType, Landuse_Category]\n",
       "Index: []"
      ]
     },
     "execution_count": 40,
     "metadata": {},
     "output_type": "execute_result"
    }
   ],
   "source": [
    "landslide[landslide['DES_GEOUNI'] == ' ']"
   ]
  },
  {
   "cell_type": "markdown",
   "metadata": {
    "id": "ZvWLyaiMqVky"
   },
   "source": [
    "This column is clear."
   ]
  },
  {
   "cell_type": "markdown",
   "metadata": {
    "id": "kBvpYYaYqVky"
   },
   "source": [
    "### Checking numerical columns"
   ]
  },
  {
   "cell_type": "code",
   "execution_count": 41,
   "metadata": {
    "id": "87HuH64oqVkz",
    "outputId": "e6cb536f-cb4d-4c21-83d4-1b0a8ac1e519"
   },
   "outputs": [
    {
     "data": {
      "text/html": [
       "<div>\n",
       "<style scoped>\n",
       "    .dataframe tbody tr th:only-of-type {\n",
       "        vertical-align: middle;\n",
       "    }\n",
       "\n",
       "    .dataframe tbody tr th {\n",
       "        vertical-align: top;\n",
       "    }\n",
       "\n",
       "    .dataframe thead th {\n",
       "        text-align: right;\n",
       "    }\n",
       "</style>\n",
       "<table border=\"1\" class=\"dataframe\">\n",
       "  <thead>\n",
       "    <tr style=\"text-align: right;\">\n",
       "      <th></th>\n",
       "      <th>LONG</th>\n",
       "      <th>LAT</th>\n",
       "      <th>Elevation</th>\n",
       "      <th>AAP(mm)</th>\n",
       "      <th>RiverDIST(m)</th>\n",
       "      <th>FaultDIST(m)</th>\n",
       "      <th>Slop(Percent)</th>\n",
       "      <th>Slop(Degrees)</th>\n",
       "    </tr>\n",
       "  </thead>\n",
       "  <tbody>\n",
       "    <tr>\n",
       "      <th>count</th>\n",
       "      <td>4284.000000</td>\n",
       "      <td>4284.000000</td>\n",
       "      <td>4284.000000</td>\n",
       "      <td>4284.000000</td>\n",
       "      <td>4284.000000</td>\n",
       "      <td>4284.000000</td>\n",
       "      <td>4284.000000</td>\n",
       "      <td>4284.000000</td>\n",
       "    </tr>\n",
       "    <tr>\n",
       "      <th>mean</th>\n",
       "      <td>50.994732</td>\n",
       "      <td>34.926284</td>\n",
       "      <td>1392.764173</td>\n",
       "      <td>241.150093</td>\n",
       "      <td>804.577993</td>\n",
       "      <td>5454.380436</td>\n",
       "      <td>23.075443</td>\n",
       "      <td>12.681215</td>\n",
       "    </tr>\n",
       "    <tr>\n",
       "      <th>std</th>\n",
       "      <td>3.355431</td>\n",
       "      <td>2.637342</td>\n",
       "      <td>673.269446</td>\n",
       "      <td>135.049680</td>\n",
       "      <td>937.114274</td>\n",
       "      <td>5907.398399</td>\n",
       "      <td>15.459633</td>\n",
       "      <td>7.963839</td>\n",
       "    </tr>\n",
       "    <tr>\n",
       "      <th>min</th>\n",
       "      <td>44.302000</td>\n",
       "      <td>26.424000</td>\n",
       "      <td>0.000000</td>\n",
       "      <td>54.000000</td>\n",
       "      <td>0.065920</td>\n",
       "      <td>1.121601</td>\n",
       "      <td>0.000000</td>\n",
       "      <td>0.000000</td>\n",
       "    </tr>\n",
       "    <tr>\n",
       "      <th>25%</th>\n",
       "      <td>48.431250</td>\n",
       "      <td>32.979250</td>\n",
       "      <td>861.750000</td>\n",
       "      <td>158.000000</td>\n",
       "      <td>208.270516</td>\n",
       "      <td>1308.276409</td>\n",
       "      <td>11.560862</td>\n",
       "      <td>6.594610</td>\n",
       "    </tr>\n",
       "    <tr>\n",
       "      <th>50%</th>\n",
       "      <td>50.500500</td>\n",
       "      <td>36.162000</td>\n",
       "      <td>1557.000000</td>\n",
       "      <td>194.000000</td>\n",
       "      <td>526.568982</td>\n",
       "      <td>3479.343521</td>\n",
       "      <td>20.417158</td>\n",
       "      <td>11.539568</td>\n",
       "    </tr>\n",
       "    <tr>\n",
       "      <th>75%</th>\n",
       "      <td>53.191250</td>\n",
       "      <td>36.862000</td>\n",
       "      <td>1905.250000</td>\n",
       "      <td>270.000000</td>\n",
       "      <td>1114.473212</td>\n",
       "      <td>7701.447471</td>\n",
       "      <td>31.393457</td>\n",
       "      <td>17.428877</td>\n",
       "    </tr>\n",
       "    <tr>\n",
       "      <th>max</th>\n",
       "      <td>61.792000</td>\n",
       "      <td>39.293000</td>\n",
       "      <td>3583.000000</td>\n",
       "      <td>1142.000000</td>\n",
       "      <td>25656.226180</td>\n",
       "      <td>44108.087060</td>\n",
       "      <td>100.000000</td>\n",
       "      <td>45.000000</td>\n",
       "    </tr>\n",
       "  </tbody>\n",
       "</table>\n",
       "</div>"
      ],
      "text/plain": [
       "              LONG          LAT    Elevation      AAP(mm)  RiverDIST(m)  \\\n",
       "count  4284.000000  4284.000000  4284.000000  4284.000000   4284.000000   \n",
       "mean     50.994732    34.926284  1392.764173   241.150093    804.577993   \n",
       "std       3.355431     2.637342   673.269446   135.049680    937.114274   \n",
       "min      44.302000    26.424000     0.000000    54.000000      0.065920   \n",
       "25%      48.431250    32.979250   861.750000   158.000000    208.270516   \n",
       "50%      50.500500    36.162000  1557.000000   194.000000    526.568982   \n",
       "75%      53.191250    36.862000  1905.250000   270.000000   1114.473212   \n",
       "max      61.792000    39.293000  3583.000000  1142.000000  25656.226180   \n",
       "\n",
       "       FaultDIST(m)  Slop(Percent)  Slop(Degrees)  \n",
       "count   4284.000000    4284.000000    4284.000000  \n",
       "mean    5454.380436      23.075443      12.681215  \n",
       "std     5907.398399      15.459633       7.963839  \n",
       "min        1.121601       0.000000       0.000000  \n",
       "25%     1308.276409      11.560862       6.594610  \n",
       "50%     3479.343521      20.417158      11.539568  \n",
       "75%     7701.447471      31.393457      17.428877  \n",
       "max    44108.087060     100.000000      45.000000  "
      ]
     },
     "execution_count": 41,
     "metadata": {},
     "output_type": "execute_result"
    }
   ],
   "source": [
    "landslide.describe()"
   ]
  },
  {
   "cell_type": "markdown",
   "metadata": {
    "id": "Kr0aFd5RqVkz"
   },
   "source": [
    "Analysis of numeric columns:\n",
    "- `LONG` and `LAT`:\n",
    "    - min and max values close to mean values\n",
    "    - These two columns refer to the landslide point's position on a map, so outliers are not a concern.\n",
    "- `Elevation`:\n",
    "    - max value is 2.5 times larger than the mean, and also 2 times larger than the upper quartile.\n",
    "    - Iran contains mountain ranges, such as the Zagros mountain range in northern Iran. With this in mind, the elevation maximum is not worrisome.\n",
    "- `AAP(mm)` (average annual precipitation):\n",
    "    - max value (1142) is much larger than mean (241).\n",
    "    - min value (54) small, but considering Iran has an arid and semi-arid climate (meaning little rainfall), this is not strange.\n",
    "    - We should look into the outliers greater than the upper quartile (270), because, as mentioned above, Iran's climate is arid.\n",
    "- `RiverDIST(m)`:\n",
    "    - Once again, the max value (25656) is much larger than the upper quartile (1114)\n",
    "    - I would suggest that we leave these values as-is.\n",
    "- `FaultDIST(m)`:\n",
    "    - Both the min (1) and max (44108) are outliers\n",
    "- `Slop(Percent)`:\n",
    "    - The min value (0) and max value (100) coincides with the description of this column.\n",
    "    - This column's values are in range of the constraints of percentage values.\n",
    "- `Slop(Degrees)`:\n",
    "    - Consider the description of this column: \"The slope at the landslide point (Values range from 0 to 90)\"\n",
    "    - This column's values are in the range of the description.\n",
    "    \n",
    "\n",
    "Summary:\n",
    "- Columns we should check:\n",
    "    - `Elevation`\n",
    "    - `AAP(mm)`\n",
    "    - `RiverDIST(m)`\n",
    "    - `FaultDIST(m)`\n",
    "- We will only keep the data in the boundaries of the lower to upper quartile for model training. But before removing these data points, we first apply exploratory data analysis."
   ]
  },
  {
   "cell_type": "markdown",
   "metadata": {},
   "source": [
    "### Vectorising categorical text data"
   ]
  },
  {
   "cell_type": "markdown",
   "metadata": {},
   "source": [
    "Some of the text columns are categorical in nature. I am vectorising these columns with the hope that we are able to calculate their correlation to numerical columns.\n",
    "I will use the label encoder from SKLearn for this process.\n",
    "\n",
    "Columns to vectorise:\n",
    "- `SUB_Basin`\n",
    "- `Landuse_Category`\n",
    "- `GEO_UNIT`\n",
    "- `Climate_Type`"
   ]
  },
  {
   "cell_type": "code",
   "execution_count": 46,
   "metadata": {},
   "outputs": [
    {
     "data": {
      "text/html": [
       "<div>\n",
       "<style scoped>\n",
       "    .dataframe tbody tr th:only-of-type {\n",
       "        vertical-align: middle;\n",
       "    }\n",
       "\n",
       "    .dataframe tbody tr th {\n",
       "        vertical-align: top;\n",
       "    }\n",
       "\n",
       "    .dataframe thead th {\n",
       "        text-align: right;\n",
       "    }\n",
       "</style>\n",
       "<table border=\"1\" class=\"dataframe\">\n",
       "  <thead>\n",
       "    <tr style=\"text-align: right;\">\n",
       "      <th></th>\n",
       "      <th>LONG</th>\n",
       "      <th>LAT</th>\n",
       "      <th>SUB_Basin</th>\n",
       "      <th>Elevation</th>\n",
       "      <th>AAP(mm)</th>\n",
       "      <th>RiverDIST(m)</th>\n",
       "      <th>FaultDIST(m)</th>\n",
       "      <th>Landuse_Type</th>\n",
       "      <th>Slop(Percent)</th>\n",
       "      <th>Slop(Degrees)</th>\n",
       "      <th>GEO_UNIT</th>\n",
       "      <th>DES_GEOUNI</th>\n",
       "      <th>Climate_Type</th>\n",
       "      <th>DES_ClimateType</th>\n",
       "      <th>Landuse_Category</th>\n",
       "      <th>SUB_Basin_encoded</th>\n",
       "      <th>Landuse_Category_encoded</th>\n",
       "      <th>GEO_UNIT_encoded</th>\n",
       "      <th>Climate_Type_encoded</th>\n",
       "    </tr>\n",
       "  </thead>\n",
       "  <tbody>\n",
       "    <tr>\n",
       "      <th>0</th>\n",
       "      <td>52.326</td>\n",
       "      <td>27.763</td>\n",
       "      <td>Mehran</td>\n",
       "      <td>617.0</td>\n",
       "      <td>137</td>\n",
       "      <td>1448.705292</td>\n",
       "      <td>40639.5789</td>\n",
       "      <td>poorrange</td>\n",
       "      <td>42.240669</td>\n",
       "      <td>22.899523</td>\n",
       "      <td>EOas-ja</td>\n",
       "      <td>Undivided Asmari and Jahrum Formation , regard...</td>\n",
       "      <td>A-M-VW</td>\n",
       "      <td>Warm and humid, with a humid period longer tha...</td>\n",
       "      <td>variousrange</td>\n",
       "      <td>31</td>\n",
       "      <td>9</td>\n",
       "      <td>24</td>\n",
       "      <td>3</td>\n",
       "    </tr>\n",
       "  </tbody>\n",
       "</table>\n",
       "</div>"
      ],
      "text/plain": [
       "     LONG     LAT SUB_Basin  Elevation  AAP(mm)  RiverDIST(m)  FaultDIST(m)  \\\n",
       "0  52.326  27.763    Mehran      617.0      137   1448.705292    40639.5789   \n",
       "\n",
       "  Landuse_Type  Slop(Percent)  Slop(Degrees) GEO_UNIT  \\\n",
       "0    poorrange      42.240669      22.899523  EOas-ja   \n",
       "\n",
       "                                          DES_GEOUNI Climate_Type  \\\n",
       "0  Undivided Asmari and Jahrum Formation , regard...       A-M-VW   \n",
       "\n",
       "                                     DES_ClimateType Landuse_Category  \\\n",
       "0  Warm and humid, with a humid period longer tha...     variousrange   \n",
       "\n",
       "   SUB_Basin_encoded  Landuse_Category_encoded  GEO_UNIT_encoded  \\\n",
       "0                 31                         9                24   \n",
       "\n",
       "   Climate_Type_encoded  \n",
       "0                     3  "
      ]
     },
     "execution_count": 46,
     "metadata": {},
     "output_type": "execute_result"
    }
   ],
   "source": [
    "landslide_vectorised = landslide.copy()\n",
    "label_encoder_text = LabelEncoder()\n",
    "landslide_vectorised['SUB_Basin_encoded'] = label_encoder_text.fit_transform(landslide_vectorised['SUB_Basin'])\n",
    "landslide_vectorised['Landuse_Category_encoded'] = label_encoder_text.fit_transform(landslide_vectorised['Landuse_Category'])\n",
    "landslide_vectorised['GEO_UNIT_encoded'] = label_encoder_text.fit_transform(landslide_vectorised['GEO_UNIT'])\n",
    "landslide_vectorised['Climate_Type_encoded'] = label_encoder_text.fit_transform(landslide_vectorised['Climate_Type'])\n",
    "\n",
    "landslide_vectorised.head(1)"
   ]
  },
  {
   "cell_type": "code",
   "execution_count": 47,
   "metadata": {},
   "outputs": [],
   "source": [
    "# Save cleaned dataset as new .csv file\n",
    "landslide.to_csv('landslide_cleaned.csv', index= False)"
   ]
  },
  {
   "cell_type": "markdown",
   "metadata": {
    "id": "qulJS_5uqVkz"
   },
   "source": [
    "---\n",
    "<a id=\"five\"></a>\n",
    "## **Exploratory Data Analysis (EDA)**\n",
    "<a href=#cont>Back to Table of Contents</a>\n",
    "\n",
    "* **Purpose:** Explore and visualize the data to uncover patterns, trends, and relationships.\n",
    "* **Details:** Use statistics and visualizations to explore the data. This may include histograms, box plots, scatter plots, and correlation matrices. Discuss any significant findings.\n",
    "---\n"
   ]
  },
  {
   "cell_type": "markdown",
   "metadata": {
    "id": "7Obo-vnoqVkz"
   },
   "source": [
    "---\n",
    "<a id=\"six\"></a>\n",
    "## **Modeling**\n",
    "<a href=#cont>Back to Table of Contents</a>\n",
    "\n",
    "* **Purpose:** Develop and train predictive or statistical models.\n",
    "* **Details:** Describe the choice of models, feature selection and engineering processes, and show how the models are trained. Include code for setting up the models and explanations of the model parameters.\n",
    "---\n"
   ]
  },
  {
   "cell_type": "code",
   "execution_count": null,
   "metadata": {
    "id": "kUlru8BoqVkz"
   },
   "outputs": [],
   "source": [
    "#Please use code cells to code in and do not forget to comment your code."
   ]
  },
  {
   "cell_type": "markdown",
   "metadata": {
    "id": "yM6CCMHJqVk0"
   },
   "source": [
    "---\n",
    "<a id=\"seven\"></a>\n",
    "## **Evaluation and Validation**\n",
    "<a href=#cont>Back to Table of Contents</a>\n",
    "\n",
    "* **Purpose:** Evaluate and validate the effectiveness and accuracy of the models.\n",
    "* **Details:** Present metrics used to evaluate the models, such as accuracy, precision, recall, F1-score, etc. Discuss validation techniques employed, such as cross-validation or train/test split.\n",
    "---"
   ]
  },
  {
   "cell_type": "code",
   "execution_count": null,
   "metadata": {
    "id": "E6xbeOIQqVk0"
   },
   "outputs": [],
   "source": [
    "#Please use code cells to code in and do not forget to comment your code."
   ]
  },
  {
   "cell_type": "markdown",
   "metadata": {
    "id": "w75wRnvAqVk0"
   },
   "source": [
    "---\n",
    "<a id=\"eight\"></a>\n",
    "## **Final Model**\n",
    "<a href=#cont>Back to Table of Contents</a>\n",
    "\n",
    "* **Purpose:** Present the final model and its performance.\n",
    "* **Details:** Highlight the best-performing model and discuss its configuration, performance, and why it was chosen over others.\n",
    "---\n"
   ]
  },
  {
   "cell_type": "code",
   "execution_count": null,
   "metadata": {
    "id": "vXjTvf5WqVk0"
   },
   "outputs": [],
   "source": [
    "#Please use code cells to code in and do not forget to comment your code."
   ]
  },
  {
   "cell_type": "markdown",
   "metadata": {
    "id": "_I-p6wnKqVk0"
   },
   "source": [
    "---\n",
    "<a id=\"nine\"></a>\n",
    "## **Conclusion and Future Work**\n",
    "<a href=#cont>Back to Table of Contents</a>\n",
    "\n",
    "* **Purpose:** Summarize the findings and discuss future directions.\n",
    "* **Details:** Conclude with a summary of the results, insights gained, limitations of the study, and suggestions for future projects or improvements in methodology or data collection.\n",
    "---\n"
   ]
  },
  {
   "cell_type": "code",
   "execution_count": null,
   "metadata": {
    "id": "cOnlfo6IqVk0"
   },
   "outputs": [],
   "source": [
    "#Please use code cells to code in and do not forget to comment your code."
   ]
  },
  {
   "cell_type": "markdown",
   "metadata": {
    "id": "JhKTHtyLqVk0"
   },
   "source": [
    "---\n",
    "<a id=\"ten\"></a>\n",
    "## **References**\n",
    "<a href=#cont>Back to Table of Contents</a>\n",
    "\n",
    "* **Purpose:** Provide citations and sources of external content.\n",
    "* **Details:** List all the references and sources consulted during the project, including data sources, research papers, and documentation for tools and libraries used.\n",
    "---"
   ]
  },
  {
   "cell_type": "markdown",
   "metadata": {
    "id": "FWJ_tp4pqVk1"
   },
   "source": [
    "Licensing information: https://creativecommons.org/licenses/by-sa/4.0/\n",
    "\n",
    "Dataset: https://www.kaggle.com/datasets/mohammadrahdanmofrad/landslide-risk-assessment-factors\n",
    "\n",
    "Map of Iran: https://www.cia.gov/the-world-factbook/countries/iran/map/\n",
    "\n",
    "Map of Iran, topographic: https://mapsontheweb.zoom-maps.com/post/646909053774299136/the-topography-of-iran-by-mappdoutofficial"
   ]
  },
  {
   "cell_type": "markdown",
   "metadata": {
    "id": "3iOAj4ulqVk1"
   },
   "source": [
    "## Additional Sections to Consider\n",
    "\n",
    "* ### Appendix:\n",
    "For any additional code, detailed tables, or extended data visualizations that are supplementary to the main content.\n",
    "\n",
    "* ### Contributors:\n",
    "If this is a group project, list the contributors and their roles or contributions to the project.\n"
   ]
  },
  {
   "cell_type": "code",
   "execution_count": null,
   "metadata": {
    "id": "IfkXKbAwqVk1"
   },
   "outputs": [],
   "source": []
  }
 ],
 "metadata": {
  "colab": {
   "provenance": []
  },
  "kernelspec": {
   "display_name": "Python 3 (ipykernel)",
   "language": "python",
   "name": "python3"
  },
  "language_info": {
   "codemirror_mode": {
    "name": "ipython",
    "version": 3
   },
   "file_extension": ".py",
   "mimetype": "text/x-python",
   "name": "python",
   "nbconvert_exporter": "python",
   "pygments_lexer": "ipython3",
   "version": "3.11.5"
  }
 },
 "nbformat": 4,
 "nbformat_minor": 1
}
